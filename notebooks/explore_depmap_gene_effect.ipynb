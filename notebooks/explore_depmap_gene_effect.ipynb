{
 "cells": [
  {
   "cell_type": "markdown",
   "metadata": {},
   "source": [
    "## DepMap:\n",
    "\n",
    "Here we explore gene_effect_corrected.csv file from DepMap (https://ndownloader.figshare.com/files/14221385)\n",
    "The gens that are essential for cell viability has effect size below the threshold -0.5. https://depmap.org/portal/faq/#dep_thresholds."
   ]
  },
  {
   "cell_type": "code",
   "execution_count": 26,
   "metadata": {
    "collapsed": true
   },
   "outputs": [],
   "source": [
    "import csv\n",
    "import wget\n",
    "import pandas as pd\n",
    "import itertools\n",
    "import matplotlib.pyplot as plt\n",
    "import os\n",
    "from collections import defaultdict\n",
    "\n"
   ]
  },
  {
   "cell_type": "markdown",
   "metadata": {},
   "source": [
    "## Load the data\n",
    "The “gene effect” file contains the corrected CERES scores, which measure the effect size of knocking out a gene, normalized against the distributions of non-essential and pan-essential genes. Columns are genes, rows are cell lines.\n",
    "A more negative CERES score indicates depletion of the gene in that cell line, indicating that it is an essential gene for cell viability.\n",
    "\n",
    "For simplicity, we call a gene \"effective\", if the effect size of that gene is below -0.5."
   ]
  },
  {
   "cell_type": "code",
   "execution_count": 27,
   "metadata": {
    "collapsed": true
   },
   "outputs": [],
   "source": [
    "url = 'https://ndownloader.figshare.com/files/14221385'\n",
    "filename = '../data/gene_effect_corrected.csv' # path to the file\n",
    "    \n",
    "    \n",
    "if not os.path.exists(filename):\n",
    "    wget.download(url,out=\"../data/\")    \n",
    "    \n",
    "df_gene_effect = pd.read_csv(filename)"
   ]
  },
  {
   "cell_type": "code",
   "execution_count": 28,
   "metadata": {},
   "outputs": [
    {
     "data": {
      "text/html": [
       "<div>\n",
       "<style scoped>\n",
       "    .dataframe tbody tr th:only-of-type {\n",
       "        vertical-align: middle;\n",
       "    }\n",
       "\n",
       "    .dataframe tbody tr th {\n",
       "        vertical-align: top;\n",
       "    }\n",
       "\n",
       "    .dataframe thead th {\n",
       "        text-align: right;\n",
       "    }\n",
       "</style>\n",
       "<table border=\"1\" class=\"dataframe\">\n",
       "  <thead>\n",
       "    <tr style=\"text-align: right;\">\n",
       "      <th></th>\n",
       "      <th>Unnamed: 0</th>\n",
       "      <th>A1BG (1)</th>\n",
       "      <th>A1CF (29974)</th>\n",
       "      <th>A2M (2)</th>\n",
       "      <th>A2ML1 (144568)</th>\n",
       "      <th>A3GALT2 (127550)</th>\n",
       "      <th>A4GALT (53947)</th>\n",
       "      <th>A4GNT (51146)</th>\n",
       "      <th>AAAS (8086)</th>\n",
       "      <th>AACS (65985)</th>\n",
       "      <th>...</th>\n",
       "      <th>ZUFSP (221302)</th>\n",
       "      <th>ZW10 (9183)</th>\n",
       "      <th>ZWILCH (55055)</th>\n",
       "      <th>ZWINT (11130)</th>\n",
       "      <th>ZXDC (79364)</th>\n",
       "      <th>ZYG11A (440590)</th>\n",
       "      <th>ZYG11B (79699)</th>\n",
       "      <th>ZYX (7791)</th>\n",
       "      <th>ZZEF1 (23140)</th>\n",
       "      <th>ZZZ3 (26009)</th>\n",
       "    </tr>\n",
       "  </thead>\n",
       "  <tbody>\n",
       "    <tr>\n",
       "      <th>0</th>\n",
       "      <td>ACH-000004</td>\n",
       "      <td>0.134645</td>\n",
       "      <td>0.075536</td>\n",
       "      <td>-0.140209</td>\n",
       "      <td>0.013928</td>\n",
       "      <td>0.029131</td>\n",
       "      <td>-0.147284</td>\n",
       "      <td>0.275829</td>\n",
       "      <td>-0.363633</td>\n",
       "      <td>0.250165</td>\n",
       "      <td>...</td>\n",
       "      <td>-0.125018</td>\n",
       "      <td>-0.145802</td>\n",
       "      <td>-0.095429</td>\n",
       "      <td>-0.396903</td>\n",
       "      <td>0.205685</td>\n",
       "      <td>0.197798</td>\n",
       "      <td>-0.347782</td>\n",
       "      <td>0.212048</td>\n",
       "      <td>0.202099</td>\n",
       "      <td>-0.123465</td>\n",
       "    </tr>\n",
       "    <tr>\n",
       "      <th>1</th>\n",
       "      <td>ACH-000005</td>\n",
       "      <td>-0.212445</td>\n",
       "      <td>0.233124</td>\n",
       "      <td>0.044365</td>\n",
       "      <td>0.173837</td>\n",
       "      <td>-0.124389</td>\n",
       "      <td>-0.298849</td>\n",
       "      <td>0.120260</td>\n",
       "      <td>-0.339925</td>\n",
       "      <td>-0.011309</td>\n",
       "      <td>...</td>\n",
       "      <td>-0.142212</td>\n",
       "      <td>-0.377179</td>\n",
       "      <td>-0.109019</td>\n",
       "      <td>-0.544686</td>\n",
       "      <td>0.126581</td>\n",
       "      <td>0.033066</td>\n",
       "      <td>-0.060746</td>\n",
       "      <td>0.443834</td>\n",
       "      <td>-0.091548</td>\n",
       "      <td>0.065104</td>\n",
       "    </tr>\n",
       "    <tr>\n",
       "      <th>2</th>\n",
       "      <td>ACH-000007</td>\n",
       "      <td>0.043318</td>\n",
       "      <td>0.066838</td>\n",
       "      <td>-0.036197</td>\n",
       "      <td>0.134781</td>\n",
       "      <td>0.082996</td>\n",
       "      <td>0.119084</td>\n",
       "      <td>0.057116</td>\n",
       "      <td>-0.352541</td>\n",
       "      <td>-0.005800</td>\n",
       "      <td>...</td>\n",
       "      <td>-0.063270</td>\n",
       "      <td>-0.469378</td>\n",
       "      <td>-0.068437</td>\n",
       "      <td>-0.207803</td>\n",
       "      <td>0.158380</td>\n",
       "      <td>0.001434</td>\n",
       "      <td>-0.255654</td>\n",
       "      <td>0.065777</td>\n",
       "      <td>-0.314659</td>\n",
       "      <td>-0.358418</td>\n",
       "    </tr>\n",
       "    <tr>\n",
       "      <th>3</th>\n",
       "      <td>ACH-000009</td>\n",
       "      <td>0.070512</td>\n",
       "      <td>0.008430</td>\n",
       "      <td>0.027114</td>\n",
       "      <td>0.055927</td>\n",
       "      <td>0.046325</td>\n",
       "      <td>0.015968</td>\n",
       "      <td>0.053502</td>\n",
       "      <td>-0.498860</td>\n",
       "      <td>0.110794</td>\n",
       "      <td>...</td>\n",
       "      <td>0.114418</td>\n",
       "      <td>-0.374999</td>\n",
       "      <td>-0.204950</td>\n",
       "      <td>-0.196839</td>\n",
       "      <td>0.043411</td>\n",
       "      <td>0.018276</td>\n",
       "      <td>-0.398310</td>\n",
       "      <td>0.151885</td>\n",
       "      <td>-0.124333</td>\n",
       "      <td>-0.391758</td>\n",
       "    </tr>\n",
       "    <tr>\n",
       "      <th>4</th>\n",
       "      <td>ACH-000011</td>\n",
       "      <td>0.190935</td>\n",
       "      <td>0.083952</td>\n",
       "      <td>-0.000741</td>\n",
       "      <td>0.353375</td>\n",
       "      <td>-0.037044</td>\n",
       "      <td>-0.205803</td>\n",
       "      <td>0.071275</td>\n",
       "      <td>-0.317310</td>\n",
       "      <td>0.099824</td>\n",
       "      <td>...</td>\n",
       "      <td>0.052517</td>\n",
       "      <td>-0.510975</td>\n",
       "      <td>-0.345998</td>\n",
       "      <td>-0.408631</td>\n",
       "      <td>0.241005</td>\n",
       "      <td>0.141594</td>\n",
       "      <td>-0.177939</td>\n",
       "      <td>0.092722</td>\n",
       "      <td>-0.161591</td>\n",
       "      <td>-0.329937</td>\n",
       "    </tr>\n",
       "  </tbody>\n",
       "</table>\n",
       "<p>5 rows × 17635 columns</p>\n",
       "</div>"
      ],
      "text/plain": [
       "   Unnamed: 0  A1BG (1)  A1CF (29974)   A2M (2)  A2ML1 (144568)  \\\n",
       "0  ACH-000004  0.134645      0.075536 -0.140209        0.013928   \n",
       "1  ACH-000005 -0.212445      0.233124  0.044365        0.173837   \n",
       "2  ACH-000007  0.043318      0.066838 -0.036197        0.134781   \n",
       "3  ACH-000009  0.070512      0.008430  0.027114        0.055927   \n",
       "4  ACH-000011  0.190935      0.083952 -0.000741        0.353375   \n",
       "\n",
       "   A3GALT2 (127550)  A4GALT (53947)  A4GNT (51146)  AAAS (8086)  AACS (65985)  \\\n",
       "0          0.029131       -0.147284       0.275829    -0.363633      0.250165   \n",
       "1         -0.124389       -0.298849       0.120260    -0.339925     -0.011309   \n",
       "2          0.082996        0.119084       0.057116    -0.352541     -0.005800   \n",
       "3          0.046325        0.015968       0.053502    -0.498860      0.110794   \n",
       "4         -0.037044       -0.205803       0.071275    -0.317310      0.099824   \n",
       "\n",
       "   ...  ZUFSP (221302)  ZW10 (9183)  ZWILCH (55055)  ZWINT (11130)  \\\n",
       "0  ...       -0.125018    -0.145802       -0.095429      -0.396903   \n",
       "1  ...       -0.142212    -0.377179       -0.109019      -0.544686   \n",
       "2  ...       -0.063270    -0.469378       -0.068437      -0.207803   \n",
       "3  ...        0.114418    -0.374999       -0.204950      -0.196839   \n",
       "4  ...        0.052517    -0.510975       -0.345998      -0.408631   \n",
       "\n",
       "   ZXDC (79364)  ZYG11A (440590)  ZYG11B (79699)  ZYX (7791)  ZZEF1 (23140)  \\\n",
       "0      0.205685         0.197798       -0.347782    0.212048       0.202099   \n",
       "1      0.126581         0.033066       -0.060746    0.443834      -0.091548   \n",
       "2      0.158380         0.001434       -0.255654    0.065777      -0.314659   \n",
       "3      0.043411         0.018276       -0.398310    0.151885      -0.124333   \n",
       "4      0.241005         0.141594       -0.177939    0.092722      -0.161591   \n",
       "\n",
       "   ZZZ3 (26009)  \n",
       "0     -0.123465  \n",
       "1      0.065104  \n",
       "2     -0.358418  \n",
       "3     -0.391758  \n",
       "4     -0.329937  \n",
       "\n",
       "[5 rows x 17635 columns]"
      ]
     },
     "execution_count": 28,
     "metadata": {},
     "output_type": "execute_result"
    }
   ],
   "source": [
    "df_gene_effect.head()"
   ]
  },
  {
   "cell_type": "code",
   "execution_count": 33,
   "metadata": {},
   "outputs": [
    {
     "name": "stdout",
     "output_type": "stream",
     "text": [
      "number of genes:17634\n",
      "number of cell lines:558\n"
     ]
    }
   ],
   "source": [
    "columns_depmap = df_gene_effect.columns\n",
    "number_genes = df_gene_effect.shape[1]-1\n",
    "number_cell_lines = df_gene_effect.shape[0]\n",
    "print(\"number of genes:{}\".format(number_genes))\n",
    "print(\"number of cell lines:{}\".format(number_cell_lines))\n"
   ]
  },
  {
   "cell_type": "markdown",
   "metadata": {},
   "source": [
    "## Map gene symbols to ensembl IDs"
   ]
  },
  {
   "cell_type": "code",
   "execution_count": 34,
   "metadata": {
    "collapsed": true
   },
   "outputs": [],
   "source": [
    "symbol_lookup = defaultdict(str)\n",
    "with open( '../lookup/lookup.txt', 'r') as f:\n",
    "        next(f)  # skip header\n",
    "        for line in f:\n",
    "            fields = line.split('\\t')\n",
    "            symbol = fields[0]\n",
    "            ncbi_id = fields[1]\n",
    "            ensembl = fields[2]\n",
    "            symbol_lookup[symbol] = ensembl\n"
   ]
  },
  {
   "cell_type": "markdown",
   "metadata": {},
   "source": [
    "## Create a dataframe for gene_effect_correct data where columns are gene ensembl IDs.\n",
    "1. Frist, we find the gene ensembl id for each gene symbol in the columns of the gene_effect_corrected. \n",
    "2. We add the list of gene ensembl ids to the rows of the dataframe\n",
    "3. We replace the original header which has gene symbols by the gene ensembl IDs."
   ]
  },
  {
   "cell_type": "code",
   "execution_count": 36,
   "metadata": {},
   "outputs": [
    {
     "name": "stdout",
     "output_type": "stream",
     "text": [
      "number of gene symbols that were mapped to gene IDs: 16732\n",
      "ratio of genes that were mapped to gene IDs to the total number of genes of the gene effect file 0.948848814789611\n"
     ]
    }
   ],
   "source": [
    "# find the ensembl id for each gene symbol in the header of the gene_effect_corrected file.\n",
    "# We find the number of gene symbols that are successfully mapped to gene ensembl ids and get the ratio of gene \n",
    "#symbols that are mapped.\n",
    "header_gene_ids = []\n",
    "genes_not_mapped = []\n",
    "number_mapped_genes = 0\n",
    "columns_genes_mapped = []\n",
    "for col in columns_depmap:\n",
    "    gene = col.split(\" \")\n",
    "    gene_symbole = gene[0] \n",
    "    gene_ncbi_id = gene[1]\n",
    "    ensembl = symbol_lookup[gene_symbole]\n",
    "    if ensembl != \"\":\n",
    "        number_mapped_genes += 1\n",
    "        columns_genes_mapped.append(col)\n",
    "        header_gene_ids.append(ensembl)\n",
    "    else:\n",
    "        genes_not_mapped.append(gene_symbole)\n",
    "print(\"number of gene symbols that were mapped to gene IDs:\", number_mapped_genes)\n",
    "print(\"ratio of genes that were mapped to gene IDs to the total number of genes of the gene effect file\", number_mapped_genes/number_genes)\n"
   ]
  },
  {
   "cell_type": "code",
   "execution_count": 37,
   "metadata": {},
   "outputs": [
    {
     "data": {
      "text/html": [
       "<div>\n",
       "<style scoped>\n",
       "    .dataframe tbody tr th:only-of-type {\n",
       "        vertical-align: middle;\n",
       "    }\n",
       "\n",
       "    .dataframe tbody tr th {\n",
       "        vertical-align: top;\n",
       "    }\n",
       "\n",
       "    .dataframe thead th {\n",
       "        text-align: right;\n",
       "    }\n",
       "</style>\n",
       "<table border=\"1\" class=\"dataframe\">\n",
       "  <thead>\n",
       "    <tr style=\"text-align: right;\">\n",
       "      <th></th>\n",
       "      <th>A1BG (1)</th>\n",
       "      <th>A1CF (29974)</th>\n",
       "      <th>A2M (2)</th>\n",
       "      <th>A2ML1 (144568)</th>\n",
       "      <th>A3GALT2 (127550)</th>\n",
       "      <th>A4GALT (53947)</th>\n",
       "      <th>A4GNT (51146)</th>\n",
       "      <th>AAAS (8086)</th>\n",
       "      <th>AACS (65985)</th>\n",
       "      <th>AADAC (13)</th>\n",
       "      <th>...</th>\n",
       "      <th>ZSWIM7 (125150)</th>\n",
       "      <th>ZSWIM8 (23053)</th>\n",
       "      <th>ZW10 (9183)</th>\n",
       "      <th>ZWILCH (55055)</th>\n",
       "      <th>ZWINT (11130)</th>\n",
       "      <th>ZXDC (79364)</th>\n",
       "      <th>ZYG11A (440590)</th>\n",
       "      <th>ZYG11B (79699)</th>\n",
       "      <th>ZYX (7791)</th>\n",
       "      <th>ZZEF1 (23140)</th>\n",
       "    </tr>\n",
       "  </thead>\n",
       "  <tbody>\n",
       "    <tr>\n",
       "      <th>0</th>\n",
       "      <td>0.134645</td>\n",
       "      <td>0.075536</td>\n",
       "      <td>-0.140209</td>\n",
       "      <td>0.013928</td>\n",
       "      <td>0.029131</td>\n",
       "      <td>-0.147284</td>\n",
       "      <td>0.275829</td>\n",
       "      <td>-0.363633</td>\n",
       "      <td>0.250165</td>\n",
       "      <td>0.129743</td>\n",
       "      <td>...</td>\n",
       "      <td>-0.173068</td>\n",
       "      <td>-0.124833</td>\n",
       "      <td>-0.145802</td>\n",
       "      <td>-0.095429</td>\n",
       "      <td>-0.396903</td>\n",
       "      <td>0.205685</td>\n",
       "      <td>0.197798</td>\n",
       "      <td>-0.347782</td>\n",
       "      <td>0.212048</td>\n",
       "      <td>0.202099</td>\n",
       "    </tr>\n",
       "    <tr>\n",
       "      <th>1</th>\n",
       "      <td>-0.212445</td>\n",
       "      <td>0.233124</td>\n",
       "      <td>0.044365</td>\n",
       "      <td>0.173837</td>\n",
       "      <td>-0.124389</td>\n",
       "      <td>-0.298849</td>\n",
       "      <td>0.120260</td>\n",
       "      <td>-0.339925</td>\n",
       "      <td>-0.011309</td>\n",
       "      <td>0.015660</td>\n",
       "      <td>...</td>\n",
       "      <td>-0.157870</td>\n",
       "      <td>-0.127058</td>\n",
       "      <td>-0.377179</td>\n",
       "      <td>-0.109019</td>\n",
       "      <td>-0.544686</td>\n",
       "      <td>0.126581</td>\n",
       "      <td>0.033066</td>\n",
       "      <td>-0.060746</td>\n",
       "      <td>0.443834</td>\n",
       "      <td>-0.091548</td>\n",
       "    </tr>\n",
       "    <tr>\n",
       "      <th>2</th>\n",
       "      <td>0.043318</td>\n",
       "      <td>0.066838</td>\n",
       "      <td>-0.036197</td>\n",
       "      <td>0.134781</td>\n",
       "      <td>0.082996</td>\n",
       "      <td>0.119084</td>\n",
       "      <td>0.057116</td>\n",
       "      <td>-0.352541</td>\n",
       "      <td>-0.005800</td>\n",
       "      <td>0.241488</td>\n",
       "      <td>...</td>\n",
       "      <td>-0.154457</td>\n",
       "      <td>-0.105315</td>\n",
       "      <td>-0.469378</td>\n",
       "      <td>-0.068437</td>\n",
       "      <td>-0.207803</td>\n",
       "      <td>0.158380</td>\n",
       "      <td>0.001434</td>\n",
       "      <td>-0.255654</td>\n",
       "      <td>0.065777</td>\n",
       "      <td>-0.314659</td>\n",
       "    </tr>\n",
       "    <tr>\n",
       "      <th>3</th>\n",
       "      <td>0.070512</td>\n",
       "      <td>0.008430</td>\n",
       "      <td>0.027114</td>\n",
       "      <td>0.055927</td>\n",
       "      <td>0.046325</td>\n",
       "      <td>0.015968</td>\n",
       "      <td>0.053502</td>\n",
       "      <td>-0.498860</td>\n",
       "      <td>0.110794</td>\n",
       "      <td>0.066921</td>\n",
       "      <td>...</td>\n",
       "      <td>-0.329543</td>\n",
       "      <td>-0.147972</td>\n",
       "      <td>-0.374999</td>\n",
       "      <td>-0.204950</td>\n",
       "      <td>-0.196839</td>\n",
       "      <td>0.043411</td>\n",
       "      <td>0.018276</td>\n",
       "      <td>-0.398310</td>\n",
       "      <td>0.151885</td>\n",
       "      <td>-0.124333</td>\n",
       "    </tr>\n",
       "    <tr>\n",
       "      <th>4</th>\n",
       "      <td>0.190935</td>\n",
       "      <td>0.083952</td>\n",
       "      <td>-0.000741</td>\n",
       "      <td>0.353375</td>\n",
       "      <td>-0.037044</td>\n",
       "      <td>-0.205803</td>\n",
       "      <td>0.071275</td>\n",
       "      <td>-0.317310</td>\n",
       "      <td>0.099824</td>\n",
       "      <td>0.105539</td>\n",
       "      <td>...</td>\n",
       "      <td>-0.317330</td>\n",
       "      <td>-0.104482</td>\n",
       "      <td>-0.510975</td>\n",
       "      <td>-0.345998</td>\n",
       "      <td>-0.408631</td>\n",
       "      <td>0.241005</td>\n",
       "      <td>0.141594</td>\n",
       "      <td>-0.177939</td>\n",
       "      <td>0.092722</td>\n",
       "      <td>-0.161591</td>\n",
       "    </tr>\n",
       "  </tbody>\n",
       "</table>\n",
       "<p>5 rows × 16732 columns</p>\n",
       "</div>"
      ],
      "text/plain": [
       "   A1BG (1)  A1CF (29974)   A2M (2)  A2ML1 (144568)  A3GALT2 (127550)  \\\n",
       "0  0.134645      0.075536 -0.140209        0.013928          0.029131   \n",
       "1 -0.212445      0.233124  0.044365        0.173837         -0.124389   \n",
       "2  0.043318      0.066838 -0.036197        0.134781          0.082996   \n",
       "3  0.070512      0.008430  0.027114        0.055927          0.046325   \n",
       "4  0.190935      0.083952 -0.000741        0.353375         -0.037044   \n",
       "\n",
       "   A4GALT (53947)  A4GNT (51146)  AAAS (8086)  AACS (65985)  AADAC (13)  ...  \\\n",
       "0       -0.147284       0.275829    -0.363633      0.250165    0.129743  ...   \n",
       "1       -0.298849       0.120260    -0.339925     -0.011309    0.015660  ...   \n",
       "2        0.119084       0.057116    -0.352541     -0.005800    0.241488  ...   \n",
       "3        0.015968       0.053502    -0.498860      0.110794    0.066921  ...   \n",
       "4       -0.205803       0.071275    -0.317310      0.099824    0.105539  ...   \n",
       "\n",
       "   ZSWIM7 (125150)  ZSWIM8 (23053)  ZW10 (9183)  ZWILCH (55055)  \\\n",
       "0        -0.173068       -0.124833    -0.145802       -0.095429   \n",
       "1        -0.157870       -0.127058    -0.377179       -0.109019   \n",
       "2        -0.154457       -0.105315    -0.469378       -0.068437   \n",
       "3        -0.329543       -0.147972    -0.374999       -0.204950   \n",
       "4        -0.317330       -0.104482    -0.510975       -0.345998   \n",
       "\n",
       "   ZWINT (11130)  ZXDC (79364)  ZYG11A (440590)  ZYG11B (79699)  ZYX (7791)  \\\n",
       "0      -0.396903      0.205685         0.197798       -0.347782    0.212048   \n",
       "1      -0.544686      0.126581         0.033066       -0.060746    0.443834   \n",
       "2      -0.207803      0.158380         0.001434       -0.255654    0.065777   \n",
       "3      -0.196839      0.043411         0.018276       -0.398310    0.151885   \n",
       "4      -0.408631      0.241005         0.141594       -0.177939    0.092722   \n",
       "\n",
       "   ZZEF1 (23140)  \n",
       "0       0.202099  \n",
       "1      -0.091548  \n",
       "2      -0.314659  \n",
       "3      -0.124333  \n",
       "4      -0.161591  \n",
       "\n",
       "[5 rows x 16732 columns]"
      ]
     },
     "execution_count": 37,
     "metadata": {},
     "output_type": "execute_result"
    }
   ],
   "source": [
    "#construct a new dataframe with genes that are mapped to gene ensembl ids.\n",
    "new_df = df_gene_effect[columns_genes_mapped]\n",
    "new_df.head()"
   ]
  },
  {
   "cell_type": "code",
   "execution_count": 18,
   "metadata": {},
   "outputs": [
    {
     "data": {
      "text/plain": [
       "(1, 16732)"
      ]
     },
     "execution_count": 18,
     "metadata": {},
     "output_type": "execute_result"
    }
   ],
   "source": [
    "#create a dataframe with only one row of gene ensembl ids.\n",
    "df_new_row = pd.DataFrame([header_gene_ids], columns = new_df.columns)\n",
    "df_new_row.head()\n",
    "df_new_row.shape"
   ]
  },
  {
   "cell_type": "code",
   "execution_count": 19,
   "metadata": {},
   "outputs": [
    {
     "data": {
      "text/html": [
       "<div>\n",
       "<style scoped>\n",
       "    .dataframe tbody tr th:only-of-type {\n",
       "        vertical-align: middle;\n",
       "    }\n",
       "\n",
       "    .dataframe tbody tr th {\n",
       "        vertical-align: top;\n",
       "    }\n",
       "\n",
       "    .dataframe thead th {\n",
       "        text-align: right;\n",
       "    }\n",
       "</style>\n",
       "<table border=\"1\" class=\"dataframe\">\n",
       "  <thead>\n",
       "    <tr style=\"text-align: right;\">\n",
       "      <th></th>\n",
       "      <th>A1BG (1)</th>\n",
       "      <th>A1CF (29974)</th>\n",
       "      <th>A2M (2)</th>\n",
       "      <th>A2ML1 (144568)</th>\n",
       "      <th>A3GALT2 (127550)</th>\n",
       "      <th>A4GALT (53947)</th>\n",
       "      <th>A4GNT (51146)</th>\n",
       "      <th>AAAS (8086)</th>\n",
       "      <th>AACS (65985)</th>\n",
       "      <th>AADAC (13)</th>\n",
       "      <th>...</th>\n",
       "      <th>ZSWIM7 (125150)</th>\n",
       "      <th>ZSWIM8 (23053)</th>\n",
       "      <th>ZW10 (9183)</th>\n",
       "      <th>ZWILCH (55055)</th>\n",
       "      <th>ZWINT (11130)</th>\n",
       "      <th>ZXDC (79364)</th>\n",
       "      <th>ZYG11A (440590)</th>\n",
       "      <th>ZYG11B (79699)</th>\n",
       "      <th>ZYX (7791)</th>\n",
       "      <th>ZZEF1 (23140)</th>\n",
       "    </tr>\n",
       "  </thead>\n",
       "  <tbody>\n",
       "    <tr>\n",
       "      <th>0</th>\n",
       "      <td>0.134645</td>\n",
       "      <td>0.0755363</td>\n",
       "      <td>-0.140209</td>\n",
       "      <td>0.0139284</td>\n",
       "      <td>0.029131</td>\n",
       "      <td>-0.147284</td>\n",
       "      <td>0.275829</td>\n",
       "      <td>-0.363633</td>\n",
       "      <td>0.250165</td>\n",
       "      <td>0.129743</td>\n",
       "      <td>...</td>\n",
       "      <td>-0.173068</td>\n",
       "      <td>-0.124833</td>\n",
       "      <td>-0.145802</td>\n",
       "      <td>-0.0954286</td>\n",
       "      <td>-0.396903</td>\n",
       "      <td>0.205685</td>\n",
       "      <td>0.197798</td>\n",
       "      <td>-0.347782</td>\n",
       "      <td>0.212048</td>\n",
       "      <td>0.202099</td>\n",
       "    </tr>\n",
       "    <tr>\n",
       "      <th>1</th>\n",
       "      <td>-0.212445</td>\n",
       "      <td>0.233124</td>\n",
       "      <td>0.0443649</td>\n",
       "      <td>0.173837</td>\n",
       "      <td>-0.124389</td>\n",
       "      <td>-0.298849</td>\n",
       "      <td>0.12026</td>\n",
       "      <td>-0.339925</td>\n",
       "      <td>-0.0113095</td>\n",
       "      <td>0.0156595</td>\n",
       "      <td>...</td>\n",
       "      <td>-0.15787</td>\n",
       "      <td>-0.127058</td>\n",
       "      <td>-0.377179</td>\n",
       "      <td>-0.109019</td>\n",
       "      <td>-0.544686</td>\n",
       "      <td>0.126581</td>\n",
       "      <td>0.033066</td>\n",
       "      <td>-0.0607463</td>\n",
       "      <td>0.443834</td>\n",
       "      <td>-0.0915483</td>\n",
       "    </tr>\n",
       "    <tr>\n",
       "      <th>2</th>\n",
       "      <td>0.0433179</td>\n",
       "      <td>0.0668376</td>\n",
       "      <td>-0.0361965</td>\n",
       "      <td>0.134781</td>\n",
       "      <td>0.0829956</td>\n",
       "      <td>0.119084</td>\n",
       "      <td>0.057116</td>\n",
       "      <td>-0.352541</td>\n",
       "      <td>-0.00579964</td>\n",
       "      <td>0.241488</td>\n",
       "      <td>...</td>\n",
       "      <td>-0.154457</td>\n",
       "      <td>-0.105315</td>\n",
       "      <td>-0.469378</td>\n",
       "      <td>-0.0684374</td>\n",
       "      <td>-0.207803</td>\n",
       "      <td>0.15838</td>\n",
       "      <td>0.00143431</td>\n",
       "      <td>-0.255654</td>\n",
       "      <td>0.0657771</td>\n",
       "      <td>-0.314659</td>\n",
       "    </tr>\n",
       "    <tr>\n",
       "      <th>3</th>\n",
       "      <td>0.070512</td>\n",
       "      <td>0.00842976</td>\n",
       "      <td>0.0271142</td>\n",
       "      <td>0.0559268</td>\n",
       "      <td>0.0463254</td>\n",
       "      <td>0.0159683</td>\n",
       "      <td>0.0535023</td>\n",
       "      <td>-0.49886</td>\n",
       "      <td>0.110794</td>\n",
       "      <td>0.0669212</td>\n",
       "      <td>...</td>\n",
       "      <td>-0.329543</td>\n",
       "      <td>-0.147972</td>\n",
       "      <td>-0.374999</td>\n",
       "      <td>-0.20495</td>\n",
       "      <td>-0.196839</td>\n",
       "      <td>0.0434114</td>\n",
       "      <td>0.0182759</td>\n",
       "      <td>-0.39831</td>\n",
       "      <td>0.151885</td>\n",
       "      <td>-0.124333</td>\n",
       "    </tr>\n",
       "    <tr>\n",
       "      <th>4</th>\n",
       "      <td>0.190935</td>\n",
       "      <td>0.0839524</td>\n",
       "      <td>-0.000740788</td>\n",
       "      <td>0.353375</td>\n",
       "      <td>-0.0370438</td>\n",
       "      <td>-0.205803</td>\n",
       "      <td>0.0712754</td>\n",
       "      <td>-0.31731</td>\n",
       "      <td>0.0998241</td>\n",
       "      <td>0.105539</td>\n",
       "      <td>...</td>\n",
       "      <td>-0.31733</td>\n",
       "      <td>-0.104482</td>\n",
       "      <td>-0.510975</td>\n",
       "      <td>-0.345998</td>\n",
       "      <td>-0.408631</td>\n",
       "      <td>0.241005</td>\n",
       "      <td>0.141594</td>\n",
       "      <td>-0.177939</td>\n",
       "      <td>0.0927217</td>\n",
       "      <td>-0.161591</td>\n",
       "    </tr>\n",
       "  </tbody>\n",
       "</table>\n",
       "<p>5 rows × 16732 columns</p>\n",
       "</div>"
      ],
      "text/plain": [
       "    A1BG (1) A1CF (29974)      A2M (2) A2ML1 (144568) A3GALT2 (127550)  \\\n",
       "0   0.134645    0.0755363    -0.140209      0.0139284         0.029131   \n",
       "1  -0.212445     0.233124    0.0443649       0.173837        -0.124389   \n",
       "2  0.0433179    0.0668376   -0.0361965       0.134781        0.0829956   \n",
       "3   0.070512   0.00842976    0.0271142      0.0559268        0.0463254   \n",
       "4   0.190935    0.0839524 -0.000740788       0.353375       -0.0370438   \n",
       "\n",
       "  A4GALT (53947) A4GNT (51146) AAAS (8086) AACS (65985) AADAC (13)  ...  \\\n",
       "0      -0.147284      0.275829   -0.363633     0.250165   0.129743  ...   \n",
       "1      -0.298849       0.12026   -0.339925   -0.0113095  0.0156595  ...   \n",
       "2       0.119084      0.057116   -0.352541  -0.00579964   0.241488  ...   \n",
       "3      0.0159683     0.0535023    -0.49886     0.110794  0.0669212  ...   \n",
       "4      -0.205803     0.0712754    -0.31731    0.0998241   0.105539  ...   \n",
       "\n",
       "  ZSWIM7 (125150) ZSWIM8 (23053) ZW10 (9183) ZWILCH (55055) ZWINT (11130)  \\\n",
       "0       -0.173068      -0.124833   -0.145802     -0.0954286     -0.396903   \n",
       "1        -0.15787      -0.127058   -0.377179      -0.109019     -0.544686   \n",
       "2       -0.154457      -0.105315   -0.469378     -0.0684374     -0.207803   \n",
       "3       -0.329543      -0.147972   -0.374999       -0.20495     -0.196839   \n",
       "4        -0.31733      -0.104482   -0.510975      -0.345998     -0.408631   \n",
       "\n",
       "  ZXDC (79364) ZYG11A (440590) ZYG11B (79699) ZYX (7791) ZZEF1 (23140)  \n",
       "0     0.205685        0.197798      -0.347782   0.212048      0.202099  \n",
       "1     0.126581        0.033066     -0.0607463   0.443834    -0.0915483  \n",
       "2      0.15838      0.00143431      -0.255654  0.0657771     -0.314659  \n",
       "3    0.0434114       0.0182759       -0.39831   0.151885     -0.124333  \n",
       "4     0.241005        0.141594      -0.177939  0.0927217     -0.161591  \n",
       "\n",
       "[5 rows x 16732 columns]"
      ]
     },
     "execution_count": 19,
     "metadata": {},
     "output_type": "execute_result"
    }
   ],
   "source": [
    "#add the row of gene ensembl ids to the dataframe constructed from genes that are mapped to gene ensembl ids.\n",
    "#This row is added to the last row\n",
    "df_temp = new_df.append(df_new_row, ignore_index=True)\n",
    "df_temp.head()"
   ]
  },
  {
   "cell_type": "code",
   "execution_count": 20,
   "metadata": {},
   "outputs": [
    {
     "data": {
      "text/html": [
       "<div>\n",
       "<style scoped>\n",
       "    .dataframe tbody tr th:only-of-type {\n",
       "        vertical-align: middle;\n",
       "    }\n",
       "\n",
       "    .dataframe tbody tr th {\n",
       "        vertical-align: top;\n",
       "    }\n",
       "\n",
       "    .dataframe thead th {\n",
       "        text-align: right;\n",
       "    }\n",
       "</style>\n",
       "<table border=\"1\" class=\"dataframe\">\n",
       "  <thead>\n",
       "    <tr style=\"text-align: right;\">\n",
       "      <th></th>\n",
       "      <th>A1BG (1)</th>\n",
       "      <th>A1CF (29974)</th>\n",
       "      <th>A2M (2)</th>\n",
       "      <th>A2ML1 (144568)</th>\n",
       "      <th>A3GALT2 (127550)</th>\n",
       "      <th>A4GALT (53947)</th>\n",
       "      <th>A4GNT (51146)</th>\n",
       "      <th>AAAS (8086)</th>\n",
       "      <th>AACS (65985)</th>\n",
       "      <th>AADAC (13)</th>\n",
       "      <th>...</th>\n",
       "      <th>ZSWIM7 (125150)</th>\n",
       "      <th>ZSWIM8 (23053)</th>\n",
       "      <th>ZW10 (9183)</th>\n",
       "      <th>ZWILCH (55055)</th>\n",
       "      <th>ZWINT (11130)</th>\n",
       "      <th>ZXDC (79364)</th>\n",
       "      <th>ZYG11A (440590)</th>\n",
       "      <th>ZYG11B (79699)</th>\n",
       "      <th>ZYX (7791)</th>\n",
       "      <th>ZZEF1 (23140)</th>\n",
       "    </tr>\n",
       "  </thead>\n",
       "  <tbody>\n",
       "    <tr>\n",
       "      <th>0</th>\n",
       "      <td>ENSG00000121410</td>\n",
       "      <td>ENSG00000148584</td>\n",
       "      <td>ENSG00000175899</td>\n",
       "      <td>ENSG00000166535</td>\n",
       "      <td>ENSG00000184389</td>\n",
       "      <td>ENSG00000128274</td>\n",
       "      <td>ENSG00000118017</td>\n",
       "      <td>ENSG00000094914</td>\n",
       "      <td>ENSG00000081760</td>\n",
       "      <td>ENSG00000114771</td>\n",
       "      <td>...</td>\n",
       "      <td>ENSG00000214941</td>\n",
       "      <td>ENSG00000214655</td>\n",
       "      <td>ENSG00000086827</td>\n",
       "      <td>ENSG00000174442</td>\n",
       "      <td>ENSG00000122952</td>\n",
       "      <td>ENSG00000070476</td>\n",
       "      <td>ENSG00000203995</td>\n",
       "      <td>ENSG00000162378</td>\n",
       "      <td>ENSG00000159840</td>\n",
       "      <td>ENSG00000074755</td>\n",
       "    </tr>\n",
       "    <tr>\n",
       "      <th>1</th>\n",
       "      <td>-0.212445</td>\n",
       "      <td>0.233124</td>\n",
       "      <td>0.0443649</td>\n",
       "      <td>0.173837</td>\n",
       "      <td>-0.124389</td>\n",
       "      <td>-0.298849</td>\n",
       "      <td>0.12026</td>\n",
       "      <td>-0.339925</td>\n",
       "      <td>-0.0113095</td>\n",
       "      <td>0.0156595</td>\n",
       "      <td>...</td>\n",
       "      <td>-0.15787</td>\n",
       "      <td>-0.127058</td>\n",
       "      <td>-0.377179</td>\n",
       "      <td>-0.109019</td>\n",
       "      <td>-0.544686</td>\n",
       "      <td>0.126581</td>\n",
       "      <td>0.033066</td>\n",
       "      <td>-0.0607463</td>\n",
       "      <td>0.443834</td>\n",
       "      <td>-0.0915483</td>\n",
       "    </tr>\n",
       "    <tr>\n",
       "      <th>2</th>\n",
       "      <td>0.0433179</td>\n",
       "      <td>0.0668376</td>\n",
       "      <td>-0.0361965</td>\n",
       "      <td>0.134781</td>\n",
       "      <td>0.0829956</td>\n",
       "      <td>0.119084</td>\n",
       "      <td>0.057116</td>\n",
       "      <td>-0.352541</td>\n",
       "      <td>-0.00579964</td>\n",
       "      <td>0.241488</td>\n",
       "      <td>...</td>\n",
       "      <td>-0.154457</td>\n",
       "      <td>-0.105315</td>\n",
       "      <td>-0.469378</td>\n",
       "      <td>-0.0684374</td>\n",
       "      <td>-0.207803</td>\n",
       "      <td>0.15838</td>\n",
       "      <td>0.00143431</td>\n",
       "      <td>-0.255654</td>\n",
       "      <td>0.0657771</td>\n",
       "      <td>-0.314659</td>\n",
       "    </tr>\n",
       "    <tr>\n",
       "      <th>3</th>\n",
       "      <td>0.070512</td>\n",
       "      <td>0.00842976</td>\n",
       "      <td>0.0271142</td>\n",
       "      <td>0.0559268</td>\n",
       "      <td>0.0463254</td>\n",
       "      <td>0.0159683</td>\n",
       "      <td>0.0535023</td>\n",
       "      <td>-0.49886</td>\n",
       "      <td>0.110794</td>\n",
       "      <td>0.0669212</td>\n",
       "      <td>...</td>\n",
       "      <td>-0.329543</td>\n",
       "      <td>-0.147972</td>\n",
       "      <td>-0.374999</td>\n",
       "      <td>-0.20495</td>\n",
       "      <td>-0.196839</td>\n",
       "      <td>0.0434114</td>\n",
       "      <td>0.0182759</td>\n",
       "      <td>-0.39831</td>\n",
       "      <td>0.151885</td>\n",
       "      <td>-0.124333</td>\n",
       "    </tr>\n",
       "    <tr>\n",
       "      <th>4</th>\n",
       "      <td>0.190935</td>\n",
       "      <td>0.0839524</td>\n",
       "      <td>-0.000740788</td>\n",
       "      <td>0.353375</td>\n",
       "      <td>-0.0370438</td>\n",
       "      <td>-0.205803</td>\n",
       "      <td>0.0712754</td>\n",
       "      <td>-0.31731</td>\n",
       "      <td>0.0998241</td>\n",
       "      <td>0.105539</td>\n",
       "      <td>...</td>\n",
       "      <td>-0.31733</td>\n",
       "      <td>-0.104482</td>\n",
       "      <td>-0.510975</td>\n",
       "      <td>-0.345998</td>\n",
       "      <td>-0.408631</td>\n",
       "      <td>0.241005</td>\n",
       "      <td>0.141594</td>\n",
       "      <td>-0.177939</td>\n",
       "      <td>0.0927217</td>\n",
       "      <td>-0.161591</td>\n",
       "    </tr>\n",
       "  </tbody>\n",
       "</table>\n",
       "<p>5 rows × 16732 columns</p>\n",
       "</div>"
      ],
      "text/plain": [
       "          A1BG (1)     A1CF (29974)          A2M (2)   A2ML1 (144568)  \\\n",
       "0  ENSG00000121410  ENSG00000148584  ENSG00000175899  ENSG00000166535   \n",
       "1        -0.212445         0.233124        0.0443649         0.173837   \n",
       "2        0.0433179        0.0668376       -0.0361965         0.134781   \n",
       "3         0.070512       0.00842976        0.0271142        0.0559268   \n",
       "4         0.190935        0.0839524     -0.000740788         0.353375   \n",
       "\n",
       "  A3GALT2 (127550)   A4GALT (53947)    A4GNT (51146)      AAAS (8086)  \\\n",
       "0  ENSG00000184389  ENSG00000128274  ENSG00000118017  ENSG00000094914   \n",
       "1        -0.124389        -0.298849          0.12026        -0.339925   \n",
       "2        0.0829956         0.119084         0.057116        -0.352541   \n",
       "3        0.0463254        0.0159683        0.0535023         -0.49886   \n",
       "4       -0.0370438        -0.205803        0.0712754         -0.31731   \n",
       "\n",
       "      AACS (65985)       AADAC (13)  ...  ZSWIM7 (125150)   ZSWIM8 (23053)  \\\n",
       "0  ENSG00000081760  ENSG00000114771  ...  ENSG00000214941  ENSG00000214655   \n",
       "1       -0.0113095        0.0156595  ...         -0.15787        -0.127058   \n",
       "2      -0.00579964         0.241488  ...        -0.154457        -0.105315   \n",
       "3         0.110794        0.0669212  ...        -0.329543        -0.147972   \n",
       "4        0.0998241         0.105539  ...         -0.31733        -0.104482   \n",
       "\n",
       "       ZW10 (9183)   ZWILCH (55055)    ZWINT (11130)     ZXDC (79364)  \\\n",
       "0  ENSG00000086827  ENSG00000174442  ENSG00000122952  ENSG00000070476   \n",
       "1        -0.377179        -0.109019        -0.544686         0.126581   \n",
       "2        -0.469378       -0.0684374        -0.207803          0.15838   \n",
       "3        -0.374999         -0.20495        -0.196839        0.0434114   \n",
       "4        -0.510975        -0.345998        -0.408631         0.241005   \n",
       "\n",
       "   ZYG11A (440590)   ZYG11B (79699)       ZYX (7791)    ZZEF1 (23140)  \n",
       "0  ENSG00000203995  ENSG00000162378  ENSG00000159840  ENSG00000074755  \n",
       "1         0.033066       -0.0607463         0.443834       -0.0915483  \n",
       "2       0.00143431        -0.255654        0.0657771        -0.314659  \n",
       "3        0.0182759         -0.39831         0.151885        -0.124333  \n",
       "4         0.141594        -0.177939        0.0927217        -0.161591  \n",
       "\n",
       "[5 rows x 16732 columns]"
      ]
     },
     "execution_count": 20,
     "metadata": {},
     "output_type": "execute_result"
    }
   ],
   "source": [
    "#replacing the last row with the first row\n",
    "b, c = df_temp.iloc[0], df_temp.iloc[df_temp.shape[0]-1]\n",
    "\n",
    "temp = df_temp.iloc[0].copy()\n",
    "df_temp.iloc[0] = c\n",
    "df_temp.iloc[df_temp.shape[0]-1] = temp\n",
    "df_temp.head()"
   ]
  },
  {
   "cell_type": "code",
   "execution_count": 21,
   "metadata": {},
   "outputs": [
    {
     "data": {
      "text/html": [
       "<div>\n",
       "<style scoped>\n",
       "    .dataframe tbody tr th:only-of-type {\n",
       "        vertical-align: middle;\n",
       "    }\n",
       "\n",
       "    .dataframe tbody tr th {\n",
       "        vertical-align: top;\n",
       "    }\n",
       "\n",
       "    .dataframe thead th {\n",
       "        text-align: right;\n",
       "    }\n",
       "</style>\n",
       "<table border=\"1\" class=\"dataframe\">\n",
       "  <thead>\n",
       "    <tr style=\"text-align: right;\">\n",
       "      <th></th>\n",
       "      <th>ENSG00000121410</th>\n",
       "      <th>ENSG00000148584</th>\n",
       "      <th>ENSG00000175899</th>\n",
       "      <th>ENSG00000166535</th>\n",
       "      <th>ENSG00000184389</th>\n",
       "      <th>ENSG00000128274</th>\n",
       "      <th>ENSG00000118017</th>\n",
       "      <th>ENSG00000094914</th>\n",
       "      <th>ENSG00000081760</th>\n",
       "      <th>ENSG00000114771</th>\n",
       "      <th>...</th>\n",
       "      <th>ENSG00000214941</th>\n",
       "      <th>ENSG00000214655</th>\n",
       "      <th>ENSG00000086827</th>\n",
       "      <th>ENSG00000174442</th>\n",
       "      <th>ENSG00000122952</th>\n",
       "      <th>ENSG00000070476</th>\n",
       "      <th>ENSG00000203995</th>\n",
       "      <th>ENSG00000162378</th>\n",
       "      <th>ENSG00000159840</th>\n",
       "      <th>ENSG00000074755</th>\n",
       "    </tr>\n",
       "  </thead>\n",
       "  <tbody>\n",
       "    <tr>\n",
       "      <th>1</th>\n",
       "      <td>-0.212445</td>\n",
       "      <td>0.233124</td>\n",
       "      <td>0.0443649</td>\n",
       "      <td>0.173837</td>\n",
       "      <td>-0.124389</td>\n",
       "      <td>-0.298849</td>\n",
       "      <td>0.12026</td>\n",
       "      <td>-0.339925</td>\n",
       "      <td>-0.0113095</td>\n",
       "      <td>0.0156595</td>\n",
       "      <td>...</td>\n",
       "      <td>-0.15787</td>\n",
       "      <td>-0.127058</td>\n",
       "      <td>-0.377179</td>\n",
       "      <td>-0.109019</td>\n",
       "      <td>-0.544686</td>\n",
       "      <td>0.126581</td>\n",
       "      <td>0.033066</td>\n",
       "      <td>-0.0607463</td>\n",
       "      <td>0.443834</td>\n",
       "      <td>-0.0915483</td>\n",
       "    </tr>\n",
       "    <tr>\n",
       "      <th>2</th>\n",
       "      <td>0.0433179</td>\n",
       "      <td>0.0668376</td>\n",
       "      <td>-0.0361965</td>\n",
       "      <td>0.134781</td>\n",
       "      <td>0.0829956</td>\n",
       "      <td>0.119084</td>\n",
       "      <td>0.057116</td>\n",
       "      <td>-0.352541</td>\n",
       "      <td>-0.00579964</td>\n",
       "      <td>0.241488</td>\n",
       "      <td>...</td>\n",
       "      <td>-0.154457</td>\n",
       "      <td>-0.105315</td>\n",
       "      <td>-0.469378</td>\n",
       "      <td>-0.0684374</td>\n",
       "      <td>-0.207803</td>\n",
       "      <td>0.15838</td>\n",
       "      <td>0.00143431</td>\n",
       "      <td>-0.255654</td>\n",
       "      <td>0.0657771</td>\n",
       "      <td>-0.314659</td>\n",
       "    </tr>\n",
       "    <tr>\n",
       "      <th>3</th>\n",
       "      <td>0.070512</td>\n",
       "      <td>0.00842976</td>\n",
       "      <td>0.0271142</td>\n",
       "      <td>0.0559268</td>\n",
       "      <td>0.0463254</td>\n",
       "      <td>0.0159683</td>\n",
       "      <td>0.0535023</td>\n",
       "      <td>-0.49886</td>\n",
       "      <td>0.110794</td>\n",
       "      <td>0.0669212</td>\n",
       "      <td>...</td>\n",
       "      <td>-0.329543</td>\n",
       "      <td>-0.147972</td>\n",
       "      <td>-0.374999</td>\n",
       "      <td>-0.20495</td>\n",
       "      <td>-0.196839</td>\n",
       "      <td>0.0434114</td>\n",
       "      <td>0.0182759</td>\n",
       "      <td>-0.39831</td>\n",
       "      <td>0.151885</td>\n",
       "      <td>-0.124333</td>\n",
       "    </tr>\n",
       "    <tr>\n",
       "      <th>4</th>\n",
       "      <td>0.190935</td>\n",
       "      <td>0.0839524</td>\n",
       "      <td>-0.000740788</td>\n",
       "      <td>0.353375</td>\n",
       "      <td>-0.0370438</td>\n",
       "      <td>-0.205803</td>\n",
       "      <td>0.0712754</td>\n",
       "      <td>-0.31731</td>\n",
       "      <td>0.0998241</td>\n",
       "      <td>0.105539</td>\n",
       "      <td>...</td>\n",
       "      <td>-0.31733</td>\n",
       "      <td>-0.104482</td>\n",
       "      <td>-0.510975</td>\n",
       "      <td>-0.345998</td>\n",
       "      <td>-0.408631</td>\n",
       "      <td>0.241005</td>\n",
       "      <td>0.141594</td>\n",
       "      <td>-0.177939</td>\n",
       "      <td>0.0927217</td>\n",
       "      <td>-0.161591</td>\n",
       "    </tr>\n",
       "    <tr>\n",
       "      <th>5</th>\n",
       "      <td>-0.0104471</td>\n",
       "      <td>0.142187</td>\n",
       "      <td>0.153432</td>\n",
       "      <td>0.255571</td>\n",
       "      <td>0.019884</td>\n",
       "      <td>-0.10793</td>\n",
       "      <td>0.238418</td>\n",
       "      <td>-0.396809</td>\n",
       "      <td>0.0531139</td>\n",
       "      <td>0.274086</td>\n",
       "      <td>...</td>\n",
       "      <td>-0.379597</td>\n",
       "      <td>-0.260046</td>\n",
       "      <td>-0.41245</td>\n",
       "      <td>-0.295652</td>\n",
       "      <td>-0.670075</td>\n",
       "      <td>0.0790975</td>\n",
       "      <td>0.115441</td>\n",
       "      <td>-0.0635642</td>\n",
       "      <td>0.0139935</td>\n",
       "      <td>-0.150988</td>\n",
       "    </tr>\n",
       "  </tbody>\n",
       "</table>\n",
       "<p>5 rows × 16732 columns</p>\n",
       "</div>"
      ],
      "text/plain": [
       "0 ENSG00000121410 ENSG00000148584 ENSG00000175899 ENSG00000166535  \\\n",
       "1       -0.212445        0.233124       0.0443649        0.173837   \n",
       "2       0.0433179       0.0668376      -0.0361965        0.134781   \n",
       "3        0.070512      0.00842976       0.0271142       0.0559268   \n",
       "4        0.190935       0.0839524    -0.000740788        0.353375   \n",
       "5      -0.0104471        0.142187        0.153432        0.255571   \n",
       "\n",
       "0 ENSG00000184389 ENSG00000128274 ENSG00000118017 ENSG00000094914  \\\n",
       "1       -0.124389       -0.298849         0.12026       -0.339925   \n",
       "2       0.0829956        0.119084        0.057116       -0.352541   \n",
       "3       0.0463254       0.0159683       0.0535023        -0.49886   \n",
       "4      -0.0370438       -0.205803       0.0712754        -0.31731   \n",
       "5        0.019884        -0.10793        0.238418       -0.396809   \n",
       "\n",
       "0 ENSG00000081760 ENSG00000114771  ... ENSG00000214941 ENSG00000214655  \\\n",
       "1      -0.0113095       0.0156595  ...        -0.15787       -0.127058   \n",
       "2     -0.00579964        0.241488  ...       -0.154457       -0.105315   \n",
       "3        0.110794       0.0669212  ...       -0.329543       -0.147972   \n",
       "4       0.0998241        0.105539  ...        -0.31733       -0.104482   \n",
       "5       0.0531139        0.274086  ...       -0.379597       -0.260046   \n",
       "\n",
       "0 ENSG00000086827 ENSG00000174442 ENSG00000122952 ENSG00000070476  \\\n",
       "1       -0.377179       -0.109019       -0.544686        0.126581   \n",
       "2       -0.469378      -0.0684374       -0.207803         0.15838   \n",
       "3       -0.374999        -0.20495       -0.196839       0.0434114   \n",
       "4       -0.510975       -0.345998       -0.408631        0.241005   \n",
       "5        -0.41245       -0.295652       -0.670075       0.0790975   \n",
       "\n",
       "0 ENSG00000203995 ENSG00000162378 ENSG00000159840 ENSG00000074755  \n",
       "1        0.033066      -0.0607463        0.443834      -0.0915483  \n",
       "2      0.00143431       -0.255654       0.0657771       -0.314659  \n",
       "3       0.0182759        -0.39831        0.151885       -0.124333  \n",
       "4        0.141594       -0.177939       0.0927217       -0.161591  \n",
       "5        0.115441      -0.0635642       0.0139935       -0.150988  \n",
       "\n",
       "[5 rows x 16732 columns]"
      ]
     },
     "execution_count": 21,
     "metadata": {},
     "output_type": "execute_result"
    }
   ],
   "source": [
    "#make the first row the header\n",
    "new_header = df_temp.iloc[0] #grab the first row for the header\n",
    "df = df_temp[1:] #take the data less the header row\n",
    "df.columns = new_header \n",
    "df.head()"
   ]
  },
  {
   "cell_type": "code",
   "execution_count": 22,
   "metadata": {},
   "outputs": [
    {
     "data": {
      "text/html": [
       "<div>\n",
       "<style scoped>\n",
       "    .dataframe tbody tr th:only-of-type {\n",
       "        vertical-align: middle;\n",
       "    }\n",
       "\n",
       "    .dataframe tbody tr th {\n",
       "        vertical-align: top;\n",
       "    }\n",
       "\n",
       "    .dataframe thead th {\n",
       "        text-align: right;\n",
       "    }\n",
       "</style>\n",
       "<table border=\"1\" class=\"dataframe\">\n",
       "  <thead>\n",
       "    <tr style=\"text-align: right;\">\n",
       "      <th></th>\n",
       "      <th>col0</th>\n",
       "      <th>ENSG00000121410</th>\n",
       "      <th>ENSG00000148584</th>\n",
       "      <th>ENSG00000175899</th>\n",
       "      <th>ENSG00000166535</th>\n",
       "      <th>ENSG00000184389</th>\n",
       "      <th>ENSG00000128274</th>\n",
       "      <th>ENSG00000118017</th>\n",
       "      <th>ENSG00000094914</th>\n",
       "      <th>ENSG00000081760</th>\n",
       "      <th>...</th>\n",
       "      <th>ENSG00000214941</th>\n",
       "      <th>ENSG00000214655</th>\n",
       "      <th>ENSG00000086827</th>\n",
       "      <th>ENSG00000174442</th>\n",
       "      <th>ENSG00000122952</th>\n",
       "      <th>ENSG00000070476</th>\n",
       "      <th>ENSG00000203995</th>\n",
       "      <th>ENSG00000162378</th>\n",
       "      <th>ENSG00000159840</th>\n",
       "      <th>ENSG00000074755</th>\n",
       "    </tr>\n",
       "  </thead>\n",
       "  <tbody>\n",
       "    <tr>\n",
       "      <th>1</th>\n",
       "      <td>ACH-000005</td>\n",
       "      <td>-0.212445</td>\n",
       "      <td>0.233124</td>\n",
       "      <td>0.0443649</td>\n",
       "      <td>0.173837</td>\n",
       "      <td>-0.124389</td>\n",
       "      <td>-0.298849</td>\n",
       "      <td>0.12026</td>\n",
       "      <td>-0.339925</td>\n",
       "      <td>-0.0113095</td>\n",
       "      <td>...</td>\n",
       "      <td>-0.15787</td>\n",
       "      <td>-0.127058</td>\n",
       "      <td>-0.377179</td>\n",
       "      <td>-0.109019</td>\n",
       "      <td>-0.544686</td>\n",
       "      <td>0.126581</td>\n",
       "      <td>0.033066</td>\n",
       "      <td>-0.0607463</td>\n",
       "      <td>0.443834</td>\n",
       "      <td>-0.0915483</td>\n",
       "    </tr>\n",
       "    <tr>\n",
       "      <th>2</th>\n",
       "      <td>ACH-000007</td>\n",
       "      <td>0.0433179</td>\n",
       "      <td>0.0668376</td>\n",
       "      <td>-0.0361965</td>\n",
       "      <td>0.134781</td>\n",
       "      <td>0.0829956</td>\n",
       "      <td>0.119084</td>\n",
       "      <td>0.057116</td>\n",
       "      <td>-0.352541</td>\n",
       "      <td>-0.00579964</td>\n",
       "      <td>...</td>\n",
       "      <td>-0.154457</td>\n",
       "      <td>-0.105315</td>\n",
       "      <td>-0.469378</td>\n",
       "      <td>-0.0684374</td>\n",
       "      <td>-0.207803</td>\n",
       "      <td>0.15838</td>\n",
       "      <td>0.00143431</td>\n",
       "      <td>-0.255654</td>\n",
       "      <td>0.0657771</td>\n",
       "      <td>-0.314659</td>\n",
       "    </tr>\n",
       "    <tr>\n",
       "      <th>3</th>\n",
       "      <td>ACH-000009</td>\n",
       "      <td>0.070512</td>\n",
       "      <td>0.00842976</td>\n",
       "      <td>0.0271142</td>\n",
       "      <td>0.0559268</td>\n",
       "      <td>0.0463254</td>\n",
       "      <td>0.0159683</td>\n",
       "      <td>0.0535023</td>\n",
       "      <td>-0.49886</td>\n",
       "      <td>0.110794</td>\n",
       "      <td>...</td>\n",
       "      <td>-0.329543</td>\n",
       "      <td>-0.147972</td>\n",
       "      <td>-0.374999</td>\n",
       "      <td>-0.20495</td>\n",
       "      <td>-0.196839</td>\n",
       "      <td>0.0434114</td>\n",
       "      <td>0.0182759</td>\n",
       "      <td>-0.39831</td>\n",
       "      <td>0.151885</td>\n",
       "      <td>-0.124333</td>\n",
       "    </tr>\n",
       "    <tr>\n",
       "      <th>4</th>\n",
       "      <td>ACH-000011</td>\n",
       "      <td>0.190935</td>\n",
       "      <td>0.0839524</td>\n",
       "      <td>-0.000740788</td>\n",
       "      <td>0.353375</td>\n",
       "      <td>-0.0370438</td>\n",
       "      <td>-0.205803</td>\n",
       "      <td>0.0712754</td>\n",
       "      <td>-0.31731</td>\n",
       "      <td>0.0998241</td>\n",
       "      <td>...</td>\n",
       "      <td>-0.31733</td>\n",
       "      <td>-0.104482</td>\n",
       "      <td>-0.510975</td>\n",
       "      <td>-0.345998</td>\n",
       "      <td>-0.408631</td>\n",
       "      <td>0.241005</td>\n",
       "      <td>0.141594</td>\n",
       "      <td>-0.177939</td>\n",
       "      <td>0.0927217</td>\n",
       "      <td>-0.161591</td>\n",
       "    </tr>\n",
       "    <tr>\n",
       "      <th>5</th>\n",
       "      <td>ACH-000012</td>\n",
       "      <td>-0.0104471</td>\n",
       "      <td>0.142187</td>\n",
       "      <td>0.153432</td>\n",
       "      <td>0.255571</td>\n",
       "      <td>0.019884</td>\n",
       "      <td>-0.10793</td>\n",
       "      <td>0.238418</td>\n",
       "      <td>-0.396809</td>\n",
       "      <td>0.0531139</td>\n",
       "      <td>...</td>\n",
       "      <td>-0.379597</td>\n",
       "      <td>-0.260046</td>\n",
       "      <td>-0.41245</td>\n",
       "      <td>-0.295652</td>\n",
       "      <td>-0.670075</td>\n",
       "      <td>0.0790975</td>\n",
       "      <td>0.115441</td>\n",
       "      <td>-0.0635642</td>\n",
       "      <td>0.0139935</td>\n",
       "      <td>-0.150988</td>\n",
       "    </tr>\n",
       "  </tbody>\n",
       "</table>\n",
       "<p>5 rows × 16733 columns</p>\n",
       "</div>"
      ],
      "text/plain": [
       "0        col0 ENSG00000121410 ENSG00000148584 ENSG00000175899 ENSG00000166535  \\\n",
       "1  ACH-000005       -0.212445        0.233124       0.0443649        0.173837   \n",
       "2  ACH-000007       0.0433179       0.0668376      -0.0361965        0.134781   \n",
       "3  ACH-000009        0.070512      0.00842976       0.0271142       0.0559268   \n",
       "4  ACH-000011        0.190935       0.0839524    -0.000740788        0.353375   \n",
       "5  ACH-000012      -0.0104471        0.142187        0.153432        0.255571   \n",
       "\n",
       "0 ENSG00000184389 ENSG00000128274 ENSG00000118017 ENSG00000094914  \\\n",
       "1       -0.124389       -0.298849         0.12026       -0.339925   \n",
       "2       0.0829956        0.119084        0.057116       -0.352541   \n",
       "3       0.0463254       0.0159683       0.0535023        -0.49886   \n",
       "4      -0.0370438       -0.205803       0.0712754        -0.31731   \n",
       "5        0.019884        -0.10793        0.238418       -0.396809   \n",
       "\n",
       "0 ENSG00000081760  ... ENSG00000214941 ENSG00000214655 ENSG00000086827  \\\n",
       "1      -0.0113095  ...        -0.15787       -0.127058       -0.377179   \n",
       "2     -0.00579964  ...       -0.154457       -0.105315       -0.469378   \n",
       "3        0.110794  ...       -0.329543       -0.147972       -0.374999   \n",
       "4       0.0998241  ...        -0.31733       -0.104482       -0.510975   \n",
       "5       0.0531139  ...       -0.379597       -0.260046        -0.41245   \n",
       "\n",
       "0 ENSG00000174442 ENSG00000122952 ENSG00000070476 ENSG00000203995  \\\n",
       "1       -0.109019       -0.544686        0.126581        0.033066   \n",
       "2      -0.0684374       -0.207803         0.15838      0.00143431   \n",
       "3        -0.20495       -0.196839       0.0434114       0.0182759   \n",
       "4       -0.345998       -0.408631        0.241005        0.141594   \n",
       "5       -0.295652       -0.670075       0.0790975        0.115441   \n",
       "\n",
       "0 ENSG00000162378 ENSG00000159840 ENSG00000074755  \n",
       "1      -0.0607463        0.443834      -0.0915483  \n",
       "2       -0.255654       0.0657771       -0.314659  \n",
       "3        -0.39831        0.151885       -0.124333  \n",
       "4       -0.177939       0.0927217       -0.161591  \n",
       "5      -0.0635642       0.0139935       -0.150988  \n",
       "\n",
       "[5 rows x 16733 columns]"
      ]
     },
     "execution_count": 22,
     "metadata": {},
     "output_type": "execute_result"
    }
   ],
   "source": [
    "df.insert(0,'col0',df_gene_effect[\"Unnamed: 0\"])\n",
    "df.head()"
   ]
  },
  {
   "cell_type": "code",
   "execution_count": 24,
   "metadata": {
    "collapsed": true
   },
   "outputs": [],
   "source": [
    "columns = df.columns\n"
   ]
  },
  {
   "cell_type": "markdown",
   "metadata": {},
   "source": [
    "## Statistics\n",
    "For each gene, we find the effect size of that gene in each cell line and count the number of \n",
    "effect sizes that are less than -0.5. We then divide this number by the total number of cell lines to\n",
    "get the proportion of effect sizes below -0.5 for each gene.\n",
    "We also find the number of genes that have at least one effect size below -0.5. \n",
    "We count the numbe of genes that their effect size is below threshold in all cell lines."
   ]
  },
  {
   "cell_type": "code",
   "execution_count": 25,
   "metadata": {},
   "outputs": [
    {
     "name": "stdout",
     "output_type": "stream",
     "text": [
      "total number of genes: 16733\n",
      "number of effective genes (genes that have an effect size below -0.5 in at least one cell line): 8978\n",
      "number of genes that are effective in ALL cell lines (have effect size below -0.5 in all cell lines): 260\n"
     ]
    }
   ],
   "source": [
    "threshold = -0.5\n",
    "effective_genes = [] #list of effective genes\n",
    "proportion_effective_genes_in_cell_lines = [] \n",
    "number_effective_genes = 0 #number of genes with at least one effect size below threshold\n",
    "number_effective_genes_in_all_cell_lines = 0 #number of genes that thier effect sizes are less than threshold in all cell lines.\n",
    "for i in range(1,df.shape[1]):\n",
    "    col = columns[i]\n",
    "    df_col = df.loc[:,col]#dataframe corresponding to a gene (column)\n",
    "    gene_effect_df = df_col.loc[df.loc[:,col] < threshold] #dataframe corresponding to a gene(column) with effect sizes below threshold\n",
    "    proportion_effective_gene_in_cell_lines = gene_effect_df.shape[0] / df.shape[0]\n",
    "    if proportion_effective_gene_in_cell_lines > 0:\n",
    "        number_effective_genes += 1\n",
    "        effective_genes.append(i)\n",
    "        proportion_effective_genes_in_cell_lines.append(proportion_effective_gene_in_cell_lines)\n",
    "    if proportion_effective_gene_in_cell_lines == 1.0:\n",
    "        number_effective_genes_in_all_cell_lines += 1\n",
    "\n",
    "print(\"total number of genes: {}\".format(df.shape[1]))        \n",
    "print(\"number of effective genes (genes that have an effect size below -0.5 in at least one cell line): {}\"\n",
    "      .format(number_effective_genes))\n",
    "print(\"number of genes that are effective in ALL cell lines (have effect size below -0.5 in all cell lines): {}\".format(number_effective_genes_in_all_cell_lines))"
   ]
  },
  {
   "cell_type": "markdown",
   "metadata": {},
   "source": [
    "## Data Visualization\n",
    "For each gene, we plot the proprtion of cell lines in which the gene is effective (has effect size below the threshold). Here, we only plot the proportion for the first 3000 of effective genes."
   ]
  },
  {
   "cell_type": "code",
   "execution_count": 15,
   "metadata": {},
   "outputs": [
    {
     "data": {
      "text/plain": [
       "Text(0.5, 1.0, 'proportion of cell lines in which each gene has the effect size below th threshold (-0.5).')"
      ]
     },
     "execution_count": 15,
     "metadata": {},
     "output_type": "execute_result"
    },
    {
     "data": {
      "image/png": "[encoded data removed]",
      "text/plain": [
       "<Figure size 1296x360 with 1 Axes>"
      ]
     },
     "metadata": {
      "needs_background": "light"
     },
     "output_type": "display_data"
    }
   ],
   "source": [
    "f, ax = plt.subplots(figsize=(18,5)) # set the size that you'd like (width, height)\n",
    "plt.bar(effective_genes[0:300],proportion_effective_genes_in_cell_lines[0:300],width=4)\n",
    "plt.xlabel('gene index')\n",
    "plt.ylabel('proportion')\n",
    "plt.title('proportion of cell lines in which each gene has the effect size below th threshold (-0.5).')"
   ]
  },
  {
   "cell_type": "code",
   "execution_count": 16,
   "metadata": {},
   "outputs": [
    {
     "data": {
      "text/plain": [
       "Text(0.5, 1.0, 'proportion of cell lines in which each gene has the effect size below th threshold (-0.5).')"
      ]
     },
     "execution_count": 16,
     "metadata": {},
     "output_type": "execute_result"
    },
    {
     "data": {
      "image/png": "[encoded data removed]",
      "text/plain": [
       "<Figure size 1296x360 with 1 Axes>"
      ]
     },
     "metadata": {
      "needs_background": "light"
     },
     "output_type": "display_data"
    }
   ],
   "source": [
    "f, ax = plt.subplots(figsize=(18,5)) # set the size that you'd like (width, height)\n",
    "plt.bar(effective_genes[301:600],proportion_effective_genes_in_cell_lines[301:600],  width=4)\n",
    "plt.xlabel('gene index')\n",
    "plt.ylabel('proportion')\n",
    "plt.title('proportion of cell lines in which each gene has the effect size below the threshold (-0.5).')"
   ]
  },
  {
   "cell_type": "code",
   "execution_count": 17,
   "metadata": {},
   "outputs": [
    {
     "data": {
      "text/plain": [
       "Text(0.5, 1.0, 'proportion of cell lines in which each gene has the effect size below th threshold (-0.5).')"
      ]
     },
     "execution_count": 17,
     "metadata": {},
     "output_type": "execute_result"
    },
    {
     "data": {
      "image/png": "[encoded data removed]",
      "text/plain": [
       "<Figure size 1296x360 with 1 Axes>"
      ]
     },
     "metadata": {
      "needs_background": "light"
     },
     "output_type": "display_data"
    }
   ],
   "source": [
    "f, ax = plt.subplots(figsize=(18,5)) # set the size that you'd like (width, height)\n",
    "plt.bar(effective_genes[601:900],proportion_effective_genes_in_cell_lines[601:900],  width=4)\n",
    "plt.xlabel('gene index')\n",
    "plt.ylabel('proportion')\n",
    "plt.title('proportion of cell lines in which each gene has the effect size below th threshold (-0.5).')"
   ]
  },
  {
   "cell_type": "code",
   "execution_count": 18,
   "metadata": {},
   "outputs": [
    {
     "data": {
      "text/plain": [
       "Text(0.5, 1.0, 'proportion of cell lines in which each gene has the effect size below th threshold (-0.5).')"
      ]
     },
     "execution_count": 18,
     "metadata": {},
     "output_type": "execute_result"
    },
    {
     "data": {
      "image/png": "[encoded data removed]",
      "text/plain": [
       "<Figure size 1296x360 with 1 Axes>"
      ]
     },
     "metadata": {
      "needs_background": "light"
     },
     "output_type": "display_data"
    }
   ],
   "source": [
    "f, ax = plt.subplots(figsize=(18,5)) # set the size that you'd like (width, height)\n",
    "plt.bar(effective_genes[901:1200],proportion_effective_genes_in_cell_lines[901:1200],  width=4)\n",
    "plt.xlabel('gene index')\n",
    "plt.ylabel('proportion')\n",
    "plt.title('proportion of cell lines in which each gene has the effect size below th threshold (-0.5).')"
   ]
  },
  {
   "cell_type": "code",
   "execution_count": 19,
   "metadata": {},
   "outputs": [
    {
     "data": {
      "text/plain": [
       "Text(0.5, 1.0, 'proportion of cell lines in which each gene has the effect size below th threshold (-0.5).')"
      ]
     },
     "execution_count": 19,
     "metadata": {},
     "output_type": "execute_result"
    },
    {
     "data": {
      "image/png": "[encoded data removed]",
      "text/plain": [
       "<Figure size 1296x360 with 1 Axes>"
      ]
     },
     "metadata": {
      "needs_background": "light"
     },
     "output_type": "display_data"
    }
   ],
   "source": [
    "f, ax = plt.subplots(figsize=(18,5)) # set the size that you'd like (width, height)\n",
    "plt.bar(effective_genes[1201:1500],proportion_effective_genes_in_cell_lines[1201:1500],  width=4)\n",
    "plt.xlabel('gene index')\n",
    "plt.ylabel('proportion')\n",
    "plt.title('proportion of cell lines in which each gene has the effect size below th threshold (-0.5).')"
   ]
  },
  {
   "cell_type": "code",
   "execution_count": 20,
   "metadata": {},
   "outputs": [
    {
     "data": {
      "text/plain": [
       "Text(0.5, 1.0, 'proportion of cell lines in which each gene has the effect size below th threshold (-0.5).')"
      ]
     },
     "execution_count": 20,
     "metadata": {},
     "output_type": "execute_result"
    },
    {
     "data": {
      "image/png": "[encoded data removed]",
      "text/plain": [
       "<Figure size 1296x360 with 1 Axes>"
      ]
     },
     "metadata": {
      "needs_background": "light"
     },
     "output_type": "display_data"
    }
   ],
   "source": [
    "f, ax = plt.subplots(figsize=(18,5)) # set the size that you'd like (width, height)\n",
    "plt.bar(effective_genes[1501:1800],proportion_effective_genes_in_cell_lines[1501:1800],  width=4)\n",
    "plt.xlabel('gene index')\n",
    "plt.ylabel('proportion')\n",
    "plt.title('proportion of cell lines in which each gene has the effect size below th threshold (-0.5).')"
   ]
  },
  {
   "cell_type": "code",
   "execution_count": 21,
   "metadata": {},
   "outputs": [
    {
     "data": {
      "text/plain": [
       "Text(0.5, 1.0, 'proportion of cell lines in which each gene has the effect size below th threshold (-0.5).')"
      ]
     },
     "execution_count": 21,
     "metadata": {},
     "output_type": "execute_result"
    },
    {
     "data": {
      "image/png": "[encoded data removed]",
      "text/plain": [
       "<Figure size 1296x360 with 1 Axes>"
      ]
     },
     "metadata": {
      "needs_background": "light"
     },
     "output_type": "display_data"
    }
   ],
   "source": [
    "f, ax = plt.subplots(figsize=(18,5)) # set the size that you'd like (width, height)\n",
    "plt.bar(effective_genes[1801:2100],proportion_effective_genes_in_cell_lines[1801:2100],  width=4)\n",
    "plt.xlabel('gene index')\n",
    "plt.ylabel('proportion')\n",
    "plt.title('proportion of cell lines in which each gene has the effect size below th threshold (-0.5).')"
   ]
  },
  {
   "cell_type": "code",
   "execution_count": 22,
   "metadata": {},
   "outputs": [
    {
     "data": {
      "text/plain": [
       "Text(0.5, 1.0, 'proportion of cell lines in which each gene has the effect size below th threshold (-0.5).')"
      ]
     },
     "execution_count": 22,
     "metadata": {},
     "output_type": "execute_result"
    },
    {
     "data": {
      "image/png": "[encoded data removed]",
      "text/plain": [
       "<Figure size 1296x360 with 1 Axes>"
      ]
     },
     "metadata": {
      "needs_background": "light"
     },
     "output_type": "display_data"
    }
   ],
   "source": [
    "f, ax = plt.subplots(figsize=(18,5)) # set the size that you'd like (width, height)\n",
    "plt.bar(effective_genes[2101:2400],proportion_effective_genes_in_cell_lines[2101:2400],  width=4)\n",
    "plt.xlabel('gene index')\n",
    "plt.ylabel('proportion')\n",
    "plt.title('proportion of cell lines in which each gene has the effect size below th threshold (-0.5).')"
   ]
  },
  {
   "cell_type": "code",
   "execution_count": 23,
   "metadata": {},
   "outputs": [
    {
     "data": {
      "text/plain": [
       "Text(0.5, 1.0, 'proportion of cell lines in which each gene has the effect size below th threshold (-0.5).')"
      ]
     },
     "execution_count": 23,
     "metadata": {},
     "output_type": "execute_result"
    },
    {
     "data": {
      "image/png": "[encoded data removed]",
      "text/plain": [
       "<Figure size 1296x360 with 1 Axes>"
      ]
     },
     "metadata": {
      "needs_background": "light"
     },
     "output_type": "display_data"
    }
   ],
   "source": [
    "f, ax = plt.subplots(figsize=(18,5)) # set the size that you'd like (width, height)\n",
    "plt.bar(effective_genes[2401:2700],proportion_effective_genes_in_cell_lines[2401:2700],  width=4)\n",
    "plt.xlabel('gene index')\n",
    "plt.ylabel('proportion')\n",
    "plt.title('proportion of cell lines in which each gene has the effect size below th threshold (-0.5).')"
   ]
  },
  {
   "cell_type": "code",
   "execution_count": 24,
   "metadata": {},
   "outputs": [
    {
     "data": {
      "text/plain": [
       "Text(0.5, 1.0, 'proportion of cell lines in which each gene has the effect size below the threshold (-0.5).')"
      ]
     },
     "execution_count": 24,
     "metadata": {},
     "output_type": "execute_result"
    },
    {
     "data": {
      "image/png": "[encoded data removed]",
      "text/plain": [
       "<Figure size 1296x360 with 1 Axes>"
      ]
     },
     "metadata": {
      "needs_background": "light"
     },
     "output_type": "display_data"
    }
   ],
   "source": [
    "f, ax = plt.subplots(figsize=(18,5)) # set the size that you'd like (width, height)\n",
    "plt.bar(effective_genes[2701:3000],proportion_effective_genes_in_cell_lines[2701:3000],  width=4)\n",
    "plt.xlabel('gene index')\n",
    "plt.ylabel('proportion')\n",
    "plt.title('proportion of cell lines in which each gene has the effect size below the threshold (-0.5).')"
   ]
  },
  {
   "cell_type": "markdown",
   "metadata": {},
   "source": [
    "## More on Statistics\n",
    "For each cell line, we find the number of genes that have effect size below -0.5. \n",
    "\n",
    "First, we create a transpose of the data. Now, the genes are rows and cell lines are columns."
   ]
  },
  {
   "cell_type": "code",
   "execution_count": 25,
   "metadata": {},
   "outputs": [
    {
     "data": {
      "text/html": [
       "<div>\n",
       "<style scoped>\n",
       "    .dataframe tbody tr th:only-of-type {\n",
       "        vertical-align: middle;\n",
       "    }\n",
       "\n",
       "    .dataframe tbody tr th {\n",
       "        vertical-align: top;\n",
       "    }\n",
       "\n",
       "    .dataframe thead th {\n",
       "        text-align: right;\n",
       "    }\n",
       "</style>\n",
       "<table border=\"1\" class=\"dataframe\">\n",
       "  <thead>\n",
       "    <tr style=\"text-align: right;\">\n",
       "      <th>col0</th>\n",
       "      <th>ACH-000005</th>\n",
       "      <th>ACH-000007</th>\n",
       "      <th>ACH-000009</th>\n",
       "      <th>ACH-000011</th>\n",
       "      <th>ACH-000012</th>\n",
       "      <th>ACH-000013</th>\n",
       "      <th>ACH-000014</th>\n",
       "      <th>ACH-000015</th>\n",
       "      <th>ACH-000017</th>\n",
       "      <th>ACH-000018</th>\n",
       "      <th>...</th>\n",
       "      <th>ACH-001552</th>\n",
       "      <th>ACH-001554</th>\n",
       "      <th>ACH-001654</th>\n",
       "      <th>ACH-001735</th>\n",
       "      <th>ACH-001736</th>\n",
       "      <th>ACH-001737</th>\n",
       "      <th>ACH-001740</th>\n",
       "      <th>ACH-001745</th>\n",
       "      <th>ACH-001765</th>\n",
       "      <th>NaN</th>\n",
       "    </tr>\n",
       "    <tr>\n",
       "      <th>0</th>\n",
       "      <th></th>\n",
       "      <th></th>\n",
       "      <th></th>\n",
       "      <th></th>\n",
       "      <th></th>\n",
       "      <th></th>\n",
       "      <th></th>\n",
       "      <th></th>\n",
       "      <th></th>\n",
       "      <th></th>\n",
       "      <th></th>\n",
       "      <th></th>\n",
       "      <th></th>\n",
       "      <th></th>\n",
       "      <th></th>\n",
       "      <th></th>\n",
       "      <th></th>\n",
       "      <th></th>\n",
       "      <th></th>\n",
       "      <th></th>\n",
       "      <th></th>\n",
       "    </tr>\n",
       "  </thead>\n",
       "  <tbody>\n",
       "    <tr>\n",
       "      <th>ENSG00000121410</th>\n",
       "      <td>-0.212445</td>\n",
       "      <td>0.0433179</td>\n",
       "      <td>0.070512</td>\n",
       "      <td>0.190935</td>\n",
       "      <td>-0.0104471</td>\n",
       "      <td>0.0209754</td>\n",
       "      <td>0.112979</td>\n",
       "      <td>-0.0741717</td>\n",
       "      <td>0.133124</td>\n",
       "      <td>-0.0402206</td>\n",
       "      <td>...</td>\n",
       "      <td>0.110189</td>\n",
       "      <td>0.0870783</td>\n",
       "      <td>0.146562</td>\n",
       "      <td>0.0937598</td>\n",
       "      <td>0.105938</td>\n",
       "      <td>-0.0477324</td>\n",
       "      <td>0.0127093</td>\n",
       "      <td>0.144255</td>\n",
       "      <td>0.0949538</td>\n",
       "      <td>0.134645</td>\n",
       "    </tr>\n",
       "    <tr>\n",
       "      <th>ENSG00000148584</th>\n",
       "      <td>0.233124</td>\n",
       "      <td>0.0668376</td>\n",
       "      <td>0.00842976</td>\n",
       "      <td>0.0839524</td>\n",
       "      <td>0.142187</td>\n",
       "      <td>0.032739</td>\n",
       "      <td>-0.0353325</td>\n",
       "      <td>0.00849296</td>\n",
       "      <td>0.0810082</td>\n",
       "      <td>0.0648516</td>\n",
       "      <td>...</td>\n",
       "      <td>0.049046</td>\n",
       "      <td>-0.0363506</td>\n",
       "      <td>0.142085</td>\n",
       "      <td>0.0329477</td>\n",
       "      <td>0.00430378</td>\n",
       "      <td>0.120031</td>\n",
       "      <td>0.285957</td>\n",
       "      <td>0.124366</td>\n",
       "      <td>0.01946</td>\n",
       "      <td>0.0755363</td>\n",
       "    </tr>\n",
       "    <tr>\n",
       "      <th>ENSG00000175899</th>\n",
       "      <td>0.0443649</td>\n",
       "      <td>-0.0361965</td>\n",
       "      <td>0.0271142</td>\n",
       "      <td>-0.000740788</td>\n",
       "      <td>0.153432</td>\n",
       "      <td>-0.0463228</td>\n",
       "      <td>0.0288061</td>\n",
       "      <td>-0.0938462</td>\n",
       "      <td>-0.0455446</td>\n",
       "      <td>-0.247315</td>\n",
       "      <td>...</td>\n",
       "      <td>-0.230648</td>\n",
       "      <td>-0.060726</td>\n",
       "      <td>-0.0481822</td>\n",
       "      <td>-0.0146596</td>\n",
       "      <td>-0.0796221</td>\n",
       "      <td>-0.0257498</td>\n",
       "      <td>-0.130755</td>\n",
       "      <td>-0.0800136</td>\n",
       "      <td>-0.0657601</td>\n",
       "      <td>-0.140209</td>\n",
       "    </tr>\n",
       "    <tr>\n",
       "      <th>ENSG00000166535</th>\n",
       "      <td>0.173837</td>\n",
       "      <td>0.134781</td>\n",
       "      <td>0.0559268</td>\n",
       "      <td>0.353375</td>\n",
       "      <td>0.255571</td>\n",
       "      <td>0.15352</td>\n",
       "      <td>0.169334</td>\n",
       "      <td>0.116199</td>\n",
       "      <td>0.0967302</td>\n",
       "      <td>0.177751</td>\n",
       "      <td>...</td>\n",
       "      <td>0.285429</td>\n",
       "      <td>0.172627</td>\n",
       "      <td>0.180256</td>\n",
       "      <td>0.156474</td>\n",
       "      <td>0.0553825</td>\n",
       "      <td>0.114416</td>\n",
       "      <td>0.193217</td>\n",
       "      <td>0.148146</td>\n",
       "      <td>0.0795169</td>\n",
       "      <td>0.0139284</td>\n",
       "    </tr>\n",
       "    <tr>\n",
       "      <th>ENSG00000184389</th>\n",
       "      <td>-0.124389</td>\n",
       "      <td>0.0829956</td>\n",
       "      <td>0.0463254</td>\n",
       "      <td>-0.0370438</td>\n",
       "      <td>0.019884</td>\n",
       "      <td>-0.036985</td>\n",
       "      <td>-0.00359193</td>\n",
       "      <td>-0.0244968</td>\n",
       "      <td>-0.146274</td>\n",
       "      <td>0.0703194</td>\n",
       "      <td>...</td>\n",
       "      <td>-0.252451</td>\n",
       "      <td>-0.0891275</td>\n",
       "      <td>-0.0150777</td>\n",
       "      <td>-0.0771064</td>\n",
       "      <td>-0.167184</td>\n",
       "      <td>0.145926</td>\n",
       "      <td>-0.0409575</td>\n",
       "      <td>-0.092386</td>\n",
       "      <td>-0.0916134</td>\n",
       "      <td>0.029131</td>\n",
       "    </tr>\n",
       "  </tbody>\n",
       "</table>\n",
       "<p>5 rows × 558 columns</p>\n",
       "</div>"
      ],
      "text/plain": [
       "col0            ACH-000005 ACH-000007  ACH-000009   ACH-000011 ACH-000012  \\\n",
       "0                                                                           \n",
       "ENSG00000121410  -0.212445  0.0433179    0.070512     0.190935 -0.0104471   \n",
       "ENSG00000148584   0.233124  0.0668376  0.00842976    0.0839524   0.142187   \n",
       "ENSG00000175899  0.0443649 -0.0361965   0.0271142 -0.000740788   0.153432   \n",
       "ENSG00000166535   0.173837   0.134781   0.0559268     0.353375   0.255571   \n",
       "ENSG00000184389  -0.124389  0.0829956   0.0463254   -0.0370438   0.019884   \n",
       "\n",
       "col0            ACH-000013  ACH-000014  ACH-000015 ACH-000017 ACH-000018  ...  \\\n",
       "0                                                                         ...   \n",
       "ENSG00000121410  0.0209754    0.112979  -0.0741717   0.133124 -0.0402206  ...   \n",
       "ENSG00000148584   0.032739  -0.0353325  0.00849296  0.0810082  0.0648516  ...   \n",
       "ENSG00000175899 -0.0463228   0.0288061  -0.0938462 -0.0455446  -0.247315  ...   \n",
       "ENSG00000166535    0.15352    0.169334    0.116199  0.0967302   0.177751  ...   \n",
       "ENSG00000184389  -0.036985 -0.00359193  -0.0244968  -0.146274  0.0703194  ...   \n",
       "\n",
       "col0            ACH-001552 ACH-001554 ACH-001654 ACH-001735  ACH-001736  \\\n",
       "0                                                                         \n",
       "ENSG00000121410   0.110189  0.0870783   0.146562  0.0937598    0.105938   \n",
       "ENSG00000148584   0.049046 -0.0363506   0.142085  0.0329477  0.00430378   \n",
       "ENSG00000175899  -0.230648  -0.060726 -0.0481822 -0.0146596  -0.0796221   \n",
       "ENSG00000166535   0.285429   0.172627   0.180256   0.156474   0.0553825   \n",
       "ENSG00000184389  -0.252451 -0.0891275 -0.0150777 -0.0771064   -0.167184   \n",
       "\n",
       "col0            ACH-001737 ACH-001740 ACH-001745 ACH-001765        NaN  \n",
       "0                                                                       \n",
       "ENSG00000121410 -0.0477324  0.0127093   0.144255  0.0949538   0.134645  \n",
       "ENSG00000148584   0.120031   0.285957   0.124366    0.01946  0.0755363  \n",
       "ENSG00000175899 -0.0257498  -0.130755 -0.0800136 -0.0657601  -0.140209  \n",
       "ENSG00000166535   0.114416   0.193217   0.148146  0.0795169  0.0139284  \n",
       "ENSG00000184389   0.145926 -0.0409575  -0.092386 -0.0916134   0.029131  \n",
       "\n",
       "[5 rows x 558 columns]"
      ]
     },
     "execution_count": 25,
     "metadata": {},
     "output_type": "execute_result"
    }
   ],
   "source": [
    "df_tr = df.T\n",
    "new_header = df_tr.iloc[0] #grab the first row for the header\n",
    "df_tr = df_tr[1:] #take the data less the header row\n",
    "df_tr.columns = new_header \n",
    "df_tr.head()"
   ]
  },
  {
   "cell_type": "code",
   "execution_count": 26,
   "metadata": {},
   "outputs": [
    {
     "name": "stdout",
     "output_type": "stream",
     "text": [
      "total number of cell lines: 558\n",
      "number of cell lines that there is at least one gene with the effect score below -0.5: 558\n",
      "number of cell lines in which all genes are effective: 0\n"
     ]
    }
   ],
   "source": [
    "threshold = -0.5\n",
    "cell_lines = []# list of cell lines in which at least one gene has effect size below threshold\n",
    "proportion = [] #ratio of number of cell lines in which a gene has effect size below threshold to the total number of\n",
    "#genes\n",
    "number_effective_genes_in_cell_line = []\n",
    "number_cell_lines = 0 #number of cell lines in which at least one gene has effect size below threshold\n",
    "number_cell_lines_all_genes_effective = 0#number of cell lines in which all genes are effective (have effec \n",
    "#score lss than threshold)\n",
    "\n",
    "for i in range(df_tr.shape[1]):\n",
    "    col = df_tr.columns[i]\n",
    "    df_tr_col = df_tr.loc[:,col]\n",
    "    cell_line_df = df_tr_col.loc[df_tr.loc[:,col] < threshold]\n",
    "    number_effective_genes = cell_line_df.shape[0]\n",
    "    proportion_effective_genes_in_a_cell_line = cell_line_df.shape[0] / df_tr.shape[0]\n",
    "    if proportion_effective_genes_in_a_cell_line > 0:\n",
    "        number_cell_lines += 1\n",
    "        cell_lines.append(i)\n",
    "        proportion.append(proportion_effective_genes_in_a_cell_line)\n",
    "        number_effective_genes_in_cell_line.append(number_effective_genes)\n",
    "    if proportion_effective_genes_in_a_cell_line == 1.0:\n",
    "        number_cell_lines_all_genes_effective += 1\n",
    "\n",
    "print(\"total number of cell lines: {}\".format(df_tr.shape[1]))        \n",
    "print(\"number of cell lines that there is at least one gene with the effect score below -0.5: {}\"\n",
    "      .format(number_cell_lines))\n",
    "print(\"number of cell lines in which all genes are effective: {}\".format(number_cell_lines_all_genes_effective))"
   ]
  },
  {
   "cell_type": "markdown",
   "metadata": {},
   "source": [
    "## Data Visualization\n",
    "We plot number of genes that are effective in each cell line.We call a gene effctive if its effect \n",
    "size is below -0.5"
   ]
  },
  {
   "cell_type": "code",
   "execution_count": 27,
   "metadata": {},
   "outputs": [
    {
     "data": {
      "text/plain": [
       "Text(0.5, 1.0, 'number of genes that are effective in each cell line.')"
      ]
     },
     "execution_count": 27,
     "metadata": {},
     "output_type": "execute_result"
    },
    {
     "data": {
      "image/png": "[encoded data removed]",
      "text/plain": [
       "<Figure size 1296x360 with 1 Axes>"
      ]
     },
     "metadata": {
      "needs_background": "light"
     },
     "output_type": "display_data"
    }
   ],
   "source": [
    "f, ax = plt.subplots(figsize=(18,5)) # set the size that you'd like (width, height)\n",
    "plt.bar(cell_lines[0:150],number_effective_genes_in_cell_line[0:150],  width=0.2)\n",
    "plt.xlabel('cell line index')\n",
    "plt.ylabel('count')\n",
    "plt.title('number of genes that are effective in each cell line.')"
   ]
  },
  {
   "cell_type": "code",
   "execution_count": 28,
   "metadata": {},
   "outputs": [
    {
     "data": {
      "text/plain": [
       "Text(0.5, 1.0, 'number of genes that are effective in each cell line.')"
      ]
     },
     "execution_count": 28,
     "metadata": {},
     "output_type": "execute_result"
    },
    {
     "data": {
      "image/png": "[encoded data removed]",
      "text/plain": [
       "<Figure size 1296x360 with 1 Axes>"
      ]
     },
     "metadata": {
      "needs_background": "light"
     },
     "output_type": "display_data"
    }
   ],
   "source": [
    "f, ax = plt.subplots(figsize=(18,5)) # set the size that you'd like (width, height)\n",
    "plt.bar(cell_lines[150:300],number_effective_genes_in_cell_line[150:300],  width=0.3)\n",
    "plt.xlabel('cell line index')\n",
    "plt.ylabel('count')\n",
    "plt.title('number of genes that are effective in each cell line.')"
   ]
  },
  {
   "cell_type": "code",
   "execution_count": 29,
   "metadata": {},
   "outputs": [
    {
     "data": {
      "text/plain": [
       "Text(0.5, 1.0, 'numberof genes that are effective in each cell line.')"
      ]
     },
     "execution_count": 29,
     "metadata": {},
     "output_type": "execute_result"
    },
    {
     "data": {
      "image/png": "[encoded data removed]",
      "text/plain": [
       "<Figure size 1296x360 with 1 Axes>"
      ]
     },
     "metadata": {
      "needs_background": "light"
     },
     "output_type": "display_data"
    }
   ],
   "source": [
    "f, ax = plt.subplots(figsize=(18,5)) # set the size that you'd like (width, height)\n",
    "plt.bar(cell_lines[300:450],number_effective_genes_in_cell_line[300:450],  width=0.3)\n",
    "plt.xlabel('cell line index')\n",
    "plt.ylabel('count')\n",
    "plt.title('numberof genes that are effective in each cell line.')"
   ]
  },
  {
   "cell_type": "code",
   "execution_count": 30,
   "metadata": {},
   "outputs": [
    {
     "data": {
      "text/plain": [
       "Text(0.5, 1.0, 'number of genes that are effective in each cell line.')"
      ]
     },
     "execution_count": 30,
     "metadata": {},
     "output_type": "execute_result"
    },
    {
     "data": {
      "image/png": "[encoded data removed]",
      "text/plain": [
       "<Figure size 1296x360 with 1 Axes>"
      ]
     },
     "metadata": {
      "needs_background": "light"
     },
     "output_type": "display_data"
    }
   ],
   "source": [
    "f, ax = plt.subplots(figsize=(18,5)) # set the size that you'd like (width, height)\n",
    "plt.bar(cell_lines[450:559],number_effective_genes_in_cell_line[450:559],  width=0.3)\n",
    "plt.xlabel('cell line index')\n",
    "plt.ylabel('count')\n",
    "plt.title('number of genes that are effective in each cell line.')"
   ]
  },
  {
   "cell_type": "code",
   "execution_count": null,
   "metadata": {
    "collapsed": true
   },
   "outputs": [],
   "source": []
  }
 ],
 "metadata": {
  "kernelspec": {
   "display_name": "SynthLethal_env",
   "language": "python",
   "name": "synthlethal_env"
  },
  "language_info": {
   "codemirror_mode": {
    "name": "ipython",
    "version": 3
   },
   "file_extension": ".py",
   "mimetype": "text/x-python",
   "name": "python",
   "nbconvert_exporter": "python",
   "pygments_lexer": "ipython3",
   "version": "3.6.8"
  }
 },
 "nbformat": 4,
 "nbformat_minor": 2
}
