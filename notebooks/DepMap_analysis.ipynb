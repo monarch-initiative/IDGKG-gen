{
 "cells": [
  {
   "cell_type": "code",
   "execution_count": 2,
   "metadata": {},
   "outputs": [],
   "source": [
    "import csv\n",
    "import wget\n",
    "import pandas as pd\n",
    "import itertools\n",
    "import matplotlib.pyplot as plt\n",
    "import os\n",
    "import numpy as np\n",
    "from collections import defaultdict\n"
   ]
  },
  {
   "cell_type": "markdown",
   "metadata": {},
   "source": [
    "Load the data\n",
    "\n",
    "The “gene effect” file contains the corrected CERES scores, which measure the effect size of knocking out a gene, normalized against the distributions of non-essential and pan-essential genes. Columns are genes, rows are cell lines. A more negative CERES score indicates depletion of the gene in that cell line, indicating that it is an essential gene for cell viability.\n",
    "\n",
    "For simplicity, we call a gene \"effective\", if the effect size of that gene is below -0.5.\n"
   ]
  },
  {
   "cell_type": "code",
   "execution_count": 3,
   "metadata": {},
   "outputs": [],
   "source": [
    "url = 'https://ndownloader.figshare.com/files/14221385'\n",
    "filename = 'D:/Uni/JAX/SL/IDGKG-gen/data/gene_effect_corrected.csv' # path to the file\n",
    "\n",
    "if not os.path.exists(filename):\n",
    "    filename = wget.download(url)"
   ]
  },
  {
   "cell_type": "code",
   "execution_count": 4,
   "metadata": {},
   "outputs": [
    {
     "data": {
      "text/html": [
       "<div>\n",
       "<style scoped>\n",
       "    .dataframe tbody tr th:only-of-type {\n",
       "        vertical-align: middle;\n",
       "    }\n",
       "\n",
       "    .dataframe tbody tr th {\n",
       "        vertical-align: top;\n",
       "    }\n",
       "\n",
       "    .dataframe thead th {\n",
       "        text-align: right;\n",
       "    }\n",
       "</style>\n",
       "<table border=\"1\" class=\"dataframe\">\n",
       "  <thead>\n",
       "    <tr style=\"text-align: right;\">\n",
       "      <th></th>\n",
       "      <th>A1BG (1)</th>\n",
       "      <th>A1CF (29974)</th>\n",
       "      <th>A2M (2)</th>\n",
       "      <th>A2ML1 (144568)</th>\n",
       "      <th>A3GALT2 (127550)</th>\n",
       "      <th>A4GALT (53947)</th>\n",
       "      <th>A4GNT (51146)</th>\n",
       "      <th>AAAS (8086)</th>\n",
       "      <th>AACS (65985)</th>\n",
       "      <th>AADAC (13)</th>\n",
       "      <th>...</th>\n",
       "      <th>ZUFSP (221302)</th>\n",
       "      <th>ZW10 (9183)</th>\n",
       "      <th>ZWILCH (55055)</th>\n",
       "      <th>ZWINT (11130)</th>\n",
       "      <th>ZXDC (79364)</th>\n",
       "      <th>ZYG11A (440590)</th>\n",
       "      <th>ZYG11B (79699)</th>\n",
       "      <th>ZYX (7791)</th>\n",
       "      <th>ZZEF1 (23140)</th>\n",
       "      <th>ZZZ3 (26009)</th>\n",
       "    </tr>\n",
       "  </thead>\n",
       "  <tbody>\n",
       "    <tr>\n",
       "      <th>ACH-000004</th>\n",
       "      <td>0.134645</td>\n",
       "      <td>0.075536</td>\n",
       "      <td>-0.140209</td>\n",
       "      <td>0.013928</td>\n",
       "      <td>0.029131</td>\n",
       "      <td>-0.147284</td>\n",
       "      <td>0.275829</td>\n",
       "      <td>-0.363633</td>\n",
       "      <td>0.250165</td>\n",
       "      <td>0.129743</td>\n",
       "      <td>...</td>\n",
       "      <td>-0.125018</td>\n",
       "      <td>-0.145802</td>\n",
       "      <td>-0.095429</td>\n",
       "      <td>-0.396903</td>\n",
       "      <td>0.205685</td>\n",
       "      <td>0.197798</td>\n",
       "      <td>-0.347782</td>\n",
       "      <td>0.212048</td>\n",
       "      <td>0.202099</td>\n",
       "      <td>-0.123465</td>\n",
       "    </tr>\n",
       "    <tr>\n",
       "      <th>ACH-000005</th>\n",
       "      <td>-0.212445</td>\n",
       "      <td>0.233124</td>\n",
       "      <td>0.044365</td>\n",
       "      <td>0.173837</td>\n",
       "      <td>-0.124389</td>\n",
       "      <td>-0.298849</td>\n",
       "      <td>0.120260</td>\n",
       "      <td>-0.339925</td>\n",
       "      <td>-0.011309</td>\n",
       "      <td>0.015660</td>\n",
       "      <td>...</td>\n",
       "      <td>-0.142212</td>\n",
       "      <td>-0.377179</td>\n",
       "      <td>-0.109019</td>\n",
       "      <td>-0.544686</td>\n",
       "      <td>0.126581</td>\n",
       "      <td>0.033066</td>\n",
       "      <td>-0.060746</td>\n",
       "      <td>0.443834</td>\n",
       "      <td>-0.091548</td>\n",
       "      <td>0.065104</td>\n",
       "    </tr>\n",
       "    <tr>\n",
       "      <th>ACH-000007</th>\n",
       "      <td>0.043318</td>\n",
       "      <td>0.066838</td>\n",
       "      <td>-0.036197</td>\n",
       "      <td>0.134781</td>\n",
       "      <td>0.082996</td>\n",
       "      <td>0.119084</td>\n",
       "      <td>0.057116</td>\n",
       "      <td>-0.352541</td>\n",
       "      <td>-0.005800</td>\n",
       "      <td>0.241488</td>\n",
       "      <td>...</td>\n",
       "      <td>-0.063270</td>\n",
       "      <td>-0.469378</td>\n",
       "      <td>-0.068437</td>\n",
       "      <td>-0.207803</td>\n",
       "      <td>0.158380</td>\n",
       "      <td>0.001434</td>\n",
       "      <td>-0.255654</td>\n",
       "      <td>0.065777</td>\n",
       "      <td>-0.314659</td>\n",
       "      <td>-0.358418</td>\n",
       "    </tr>\n",
       "    <tr>\n",
       "      <th>ACH-000009</th>\n",
       "      <td>0.070512</td>\n",
       "      <td>0.008430</td>\n",
       "      <td>0.027114</td>\n",
       "      <td>0.055927</td>\n",
       "      <td>0.046325</td>\n",
       "      <td>0.015968</td>\n",
       "      <td>0.053502</td>\n",
       "      <td>-0.498860</td>\n",
       "      <td>0.110794</td>\n",
       "      <td>0.066921</td>\n",
       "      <td>...</td>\n",
       "      <td>0.114418</td>\n",
       "      <td>-0.374999</td>\n",
       "      <td>-0.204950</td>\n",
       "      <td>-0.196839</td>\n",
       "      <td>0.043411</td>\n",
       "      <td>0.018276</td>\n",
       "      <td>-0.398310</td>\n",
       "      <td>0.151885</td>\n",
       "      <td>-0.124333</td>\n",
       "      <td>-0.391758</td>\n",
       "    </tr>\n",
       "    <tr>\n",
       "      <th>ACH-000011</th>\n",
       "      <td>0.190935</td>\n",
       "      <td>0.083952</td>\n",
       "      <td>-0.000741</td>\n",
       "      <td>0.353375</td>\n",
       "      <td>-0.037044</td>\n",
       "      <td>-0.205803</td>\n",
       "      <td>0.071275</td>\n",
       "      <td>-0.317310</td>\n",
       "      <td>0.099824</td>\n",
       "      <td>0.105539</td>\n",
       "      <td>...</td>\n",
       "      <td>0.052517</td>\n",
       "      <td>-0.510975</td>\n",
       "      <td>-0.345998</td>\n",
       "      <td>-0.408631</td>\n",
       "      <td>0.241005</td>\n",
       "      <td>0.141594</td>\n",
       "      <td>-0.177939</td>\n",
       "      <td>0.092722</td>\n",
       "      <td>-0.161591</td>\n",
       "      <td>-0.329937</td>\n",
       "    </tr>\n",
       "  </tbody>\n",
       "</table>\n",
       "<p>5 rows × 17634 columns</p>\n",
       "</div>"
      ],
      "text/plain": [
       "            A1BG (1)  A1CF (29974)   A2M (2)  A2ML1 (144568)  \\\n",
       "ACH-000004  0.134645      0.075536 -0.140209        0.013928   \n",
       "ACH-000005 -0.212445      0.233124  0.044365        0.173837   \n",
       "ACH-000007  0.043318      0.066838 -0.036197        0.134781   \n",
       "ACH-000009  0.070512      0.008430  0.027114        0.055927   \n",
       "ACH-000011  0.190935      0.083952 -0.000741        0.353375   \n",
       "\n",
       "            A3GALT2 (127550)  A4GALT (53947)  A4GNT (51146)  AAAS (8086)  \\\n",
       "ACH-000004          0.029131       -0.147284       0.275829    -0.363633   \n",
       "ACH-000005         -0.124389       -0.298849       0.120260    -0.339925   \n",
       "ACH-000007          0.082996        0.119084       0.057116    -0.352541   \n",
       "ACH-000009          0.046325        0.015968       0.053502    -0.498860   \n",
       "ACH-000011         -0.037044       -0.205803       0.071275    -0.317310   \n",
       "\n",
       "            AACS (65985)  AADAC (13)  ...  ZUFSP (221302)  ZW10 (9183)  \\\n",
       "ACH-000004      0.250165    0.129743  ...       -0.125018    -0.145802   \n",
       "ACH-000005     -0.011309    0.015660  ...       -0.142212    -0.377179   \n",
       "ACH-000007     -0.005800    0.241488  ...       -0.063270    -0.469378   \n",
       "ACH-000009      0.110794    0.066921  ...        0.114418    -0.374999   \n",
       "ACH-000011      0.099824    0.105539  ...        0.052517    -0.510975   \n",
       "\n",
       "            ZWILCH (55055)  ZWINT (11130)  ZXDC (79364)  ZYG11A (440590)  \\\n",
       "ACH-000004       -0.095429      -0.396903      0.205685         0.197798   \n",
       "ACH-000005       -0.109019      -0.544686      0.126581         0.033066   \n",
       "ACH-000007       -0.068437      -0.207803      0.158380         0.001434   \n",
       "ACH-000009       -0.204950      -0.196839      0.043411         0.018276   \n",
       "ACH-000011       -0.345998      -0.408631      0.241005         0.141594   \n",
       "\n",
       "            ZYG11B (79699)  ZYX (7791)  ZZEF1 (23140)  ZZZ3 (26009)  \n",
       "ACH-000004       -0.347782    0.212048       0.202099     -0.123465  \n",
       "ACH-000005       -0.060746    0.443834      -0.091548      0.065104  \n",
       "ACH-000007       -0.255654    0.065777      -0.314659     -0.358418  \n",
       "ACH-000009       -0.398310    0.151885      -0.124333     -0.391758  \n",
       "ACH-000011       -0.177939    0.092722      -0.161591     -0.329937  \n",
       "\n",
       "[5 rows x 17634 columns]"
      ]
     },
     "execution_count": 4,
     "metadata": {},
     "output_type": "execute_result"
    }
   ],
   "source": [
    "df = pd.read_csv(filename, index_col=0)\n",
    "df.head()"
   ]
  },
  {
   "cell_type": "markdown",
   "metadata": {},
   "source": [
    "  "
   ]
  },
  {
   "cell_type": "markdown",
   "metadata": {},
   "source": [
    "Map symbols to ensembl IDs:"
   ]
  },
  {
   "cell_type": "code",
   "execution_count": 5,
   "metadata": {},
   "outputs": [],
   "source": [
    "symbol_lookup = defaultdict(str)\n",
    "with open( '../lookup/lookup.txt', 'r') as f:\n",
    "        next(f)  # skip header\n",
    "        for line in f:\n",
    "            fields = line.split('\\t')\n",
    "            symbol = fields[0]\n",
    "            ncbi_id = fields[1]\n",
    "            ensembl = fields[2]\n",
    "            symbol_lookup[symbol] = ensembl"
   ]
  },
  {
   "cell_type": "code",
   "execution_count": 6,
   "metadata": {
    "scrolled": true
   },
   "outputs": [],
   "source": [
    "new_columns = []\n",
    "for i in list(df.columns):\n",
    "    symbol = i.split(\" \")[0]\n",
    "    ens_ID = symbol_lookup[symbol]\n",
    "    new_columns.append(ens_ID)\n",
    "\n",
    "ensembl_df = df.copy()\n",
    "ensembl_df.columns = new_columns   # somehow also changes the column names of df?!?!?!!?"
   ]
  },
  {
   "cell_type": "code",
   "execution_count": 7,
   "metadata": {},
   "outputs": [
    {
     "data": {
      "text/plain": [
       "(558, 17634)"
      ]
     },
     "execution_count": 7,
     "metadata": {},
     "output_type": "execute_result"
    }
   ],
   "source": [
    "ensembl_df.shape"
   ]
  },
  {
   "cell_type": "markdown",
   "metadata": {},
   "source": [
    "Get rid of columns without ensembl ID entry:"
   ]
  },
  {
   "cell_type": "code",
   "execution_count": 8,
   "metadata": {},
   "outputs": [],
   "source": [
    "for i in range(ensembl_df.shape[1]):\n",
    "    if i == ensembl_df.shape[1]:\n",
    "        break\n",
    "    col = ensembl_df.iloc[:,i]\n",
    "    if col.name == \"\":\n",
    "        del ensembl_df[col.name]"
   ]
  },
  {
   "cell_type": "code",
   "execution_count": 9,
   "metadata": {
    "scrolled": true
   },
   "outputs": [
    {
     "name": "stdout",
     "output_type": "stream",
     "text": [
      "genes in original df: 17634\n",
      "genes in ensembl_df: 16732\n",
      "=> percent of mapped genes: 0.948848814789611\n"
     ]
    }
   ],
   "source": [
    "print(\"genes in original df: {}\".format(df.shape[1]))\n",
    "print(\"genes in ensembl_df: {}\".format(ensembl_df.shape[1]))\n",
    "print(\"=> percent of mapped genes: {}\".format(ensembl_df.shape[1] / df.shape[1]))"
   ]
  },
  {
   "cell_type": "code",
   "execution_count": 10,
   "metadata": {
    "scrolled": true
   },
   "outputs": [
    {
     "data": {
      "text/html": [
       "<div>\n",
       "<style scoped>\n",
       "    .dataframe tbody tr th:only-of-type {\n",
       "        vertical-align: middle;\n",
       "    }\n",
       "\n",
       "    .dataframe tbody tr th {\n",
       "        vertical-align: top;\n",
       "    }\n",
       "\n",
       "    .dataframe thead th {\n",
       "        text-align: right;\n",
       "    }\n",
       "</style>\n",
       "<table border=\"1\" class=\"dataframe\">\n",
       "  <thead>\n",
       "    <tr style=\"text-align: right;\">\n",
       "      <th></th>\n",
       "      <th>ENSG00000121410</th>\n",
       "      <th>ENSG00000148584</th>\n",
       "      <th>ENSG00000175899</th>\n",
       "      <th>ENSG00000166535</th>\n",
       "      <th>ENSG00000184389</th>\n",
       "      <th>ENSG00000128274</th>\n",
       "      <th>ENSG00000118017</th>\n",
       "      <th>ENSG00000094914</th>\n",
       "      <th>ENSG00000081760</th>\n",
       "      <th>ENSG00000114771</th>\n",
       "      <th>...</th>\n",
       "      <th>ENSG00000214941</th>\n",
       "      <th>ENSG00000214655</th>\n",
       "      <th>ENSG00000086827</th>\n",
       "      <th>ENSG00000174442</th>\n",
       "      <th>ENSG00000122952</th>\n",
       "      <th>ENSG00000070476</th>\n",
       "      <th>ENSG00000203995</th>\n",
       "      <th>ENSG00000162378</th>\n",
       "      <th>ENSG00000159840</th>\n",
       "      <th>ENSG00000074755</th>\n",
       "    </tr>\n",
       "  </thead>\n",
       "  <tbody>\n",
       "    <tr>\n",
       "      <th>ACH-000004</th>\n",
       "      <td>0.134645</td>\n",
       "      <td>0.075536</td>\n",
       "      <td>-0.140209</td>\n",
       "      <td>0.013928</td>\n",
       "      <td>0.029131</td>\n",
       "      <td>-0.147284</td>\n",
       "      <td>0.275829</td>\n",
       "      <td>-0.363633</td>\n",
       "      <td>0.250165</td>\n",
       "      <td>0.129743</td>\n",
       "      <td>...</td>\n",
       "      <td>-0.173068</td>\n",
       "      <td>-0.124833</td>\n",
       "      <td>-0.145802</td>\n",
       "      <td>-0.095429</td>\n",
       "      <td>-0.396903</td>\n",
       "      <td>0.205685</td>\n",
       "      <td>0.197798</td>\n",
       "      <td>-0.347782</td>\n",
       "      <td>0.212048</td>\n",
       "      <td>0.202099</td>\n",
       "    </tr>\n",
       "    <tr>\n",
       "      <th>ACH-000005</th>\n",
       "      <td>-0.212445</td>\n",
       "      <td>0.233124</td>\n",
       "      <td>0.044365</td>\n",
       "      <td>0.173837</td>\n",
       "      <td>-0.124389</td>\n",
       "      <td>-0.298849</td>\n",
       "      <td>0.120260</td>\n",
       "      <td>-0.339925</td>\n",
       "      <td>-0.011309</td>\n",
       "      <td>0.015660</td>\n",
       "      <td>...</td>\n",
       "      <td>-0.157870</td>\n",
       "      <td>-0.127058</td>\n",
       "      <td>-0.377179</td>\n",
       "      <td>-0.109019</td>\n",
       "      <td>-0.544686</td>\n",
       "      <td>0.126581</td>\n",
       "      <td>0.033066</td>\n",
       "      <td>-0.060746</td>\n",
       "      <td>0.443834</td>\n",
       "      <td>-0.091548</td>\n",
       "    </tr>\n",
       "    <tr>\n",
       "      <th>ACH-000007</th>\n",
       "      <td>0.043318</td>\n",
       "      <td>0.066838</td>\n",
       "      <td>-0.036197</td>\n",
       "      <td>0.134781</td>\n",
       "      <td>0.082996</td>\n",
       "      <td>0.119084</td>\n",
       "      <td>0.057116</td>\n",
       "      <td>-0.352541</td>\n",
       "      <td>-0.005800</td>\n",
       "      <td>0.241488</td>\n",
       "      <td>...</td>\n",
       "      <td>-0.154457</td>\n",
       "      <td>-0.105315</td>\n",
       "      <td>-0.469378</td>\n",
       "      <td>-0.068437</td>\n",
       "      <td>-0.207803</td>\n",
       "      <td>0.158380</td>\n",
       "      <td>0.001434</td>\n",
       "      <td>-0.255654</td>\n",
       "      <td>0.065777</td>\n",
       "      <td>-0.314659</td>\n",
       "    </tr>\n",
       "    <tr>\n",
       "      <th>ACH-000009</th>\n",
       "      <td>0.070512</td>\n",
       "      <td>0.008430</td>\n",
       "      <td>0.027114</td>\n",
       "      <td>0.055927</td>\n",
       "      <td>0.046325</td>\n",
       "      <td>0.015968</td>\n",
       "      <td>0.053502</td>\n",
       "      <td>-0.498860</td>\n",
       "      <td>0.110794</td>\n",
       "      <td>0.066921</td>\n",
       "      <td>...</td>\n",
       "      <td>-0.329543</td>\n",
       "      <td>-0.147972</td>\n",
       "      <td>-0.374999</td>\n",
       "      <td>-0.204950</td>\n",
       "      <td>-0.196839</td>\n",
       "      <td>0.043411</td>\n",
       "      <td>0.018276</td>\n",
       "      <td>-0.398310</td>\n",
       "      <td>0.151885</td>\n",
       "      <td>-0.124333</td>\n",
       "    </tr>\n",
       "    <tr>\n",
       "      <th>ACH-000011</th>\n",
       "      <td>0.190935</td>\n",
       "      <td>0.083952</td>\n",
       "      <td>-0.000741</td>\n",
       "      <td>0.353375</td>\n",
       "      <td>-0.037044</td>\n",
       "      <td>-0.205803</td>\n",
       "      <td>0.071275</td>\n",
       "      <td>-0.317310</td>\n",
       "      <td>0.099824</td>\n",
       "      <td>0.105539</td>\n",
       "      <td>...</td>\n",
       "      <td>-0.317330</td>\n",
       "      <td>-0.104482</td>\n",
       "      <td>-0.510975</td>\n",
       "      <td>-0.345998</td>\n",
       "      <td>-0.408631</td>\n",
       "      <td>0.241005</td>\n",
       "      <td>0.141594</td>\n",
       "      <td>-0.177939</td>\n",
       "      <td>0.092722</td>\n",
       "      <td>-0.161591</td>\n",
       "    </tr>\n",
       "  </tbody>\n",
       "</table>\n",
       "<p>5 rows × 16732 columns</p>\n",
       "</div>"
      ],
      "text/plain": [
       "            ENSG00000121410  ENSG00000148584  ENSG00000175899  \\\n",
       "ACH-000004         0.134645         0.075536        -0.140209   \n",
       "ACH-000005        -0.212445         0.233124         0.044365   \n",
       "ACH-000007         0.043318         0.066838        -0.036197   \n",
       "ACH-000009         0.070512         0.008430         0.027114   \n",
       "ACH-000011         0.190935         0.083952        -0.000741   \n",
       "\n",
       "            ENSG00000166535  ENSG00000184389  ENSG00000128274  \\\n",
       "ACH-000004         0.013928         0.029131        -0.147284   \n",
       "ACH-000005         0.173837        -0.124389        -0.298849   \n",
       "ACH-000007         0.134781         0.082996         0.119084   \n",
       "ACH-000009         0.055927         0.046325         0.015968   \n",
       "ACH-000011         0.353375        -0.037044        -0.205803   \n",
       "\n",
       "            ENSG00000118017  ENSG00000094914  ENSG00000081760  \\\n",
       "ACH-000004         0.275829        -0.363633         0.250165   \n",
       "ACH-000005         0.120260        -0.339925        -0.011309   \n",
       "ACH-000007         0.057116        -0.352541        -0.005800   \n",
       "ACH-000009         0.053502        -0.498860         0.110794   \n",
       "ACH-000011         0.071275        -0.317310         0.099824   \n",
       "\n",
       "            ENSG00000114771  ...  ENSG00000214941  ENSG00000214655  \\\n",
       "ACH-000004         0.129743  ...        -0.173068        -0.124833   \n",
       "ACH-000005         0.015660  ...        -0.157870        -0.127058   \n",
       "ACH-000007         0.241488  ...        -0.154457        -0.105315   \n",
       "ACH-000009         0.066921  ...        -0.329543        -0.147972   \n",
       "ACH-000011         0.105539  ...        -0.317330        -0.104482   \n",
       "\n",
       "            ENSG00000086827  ENSG00000174442  ENSG00000122952  \\\n",
       "ACH-000004        -0.145802        -0.095429        -0.396903   \n",
       "ACH-000005        -0.377179        -0.109019        -0.544686   \n",
       "ACH-000007        -0.469378        -0.068437        -0.207803   \n",
       "ACH-000009        -0.374999        -0.204950        -0.196839   \n",
       "ACH-000011        -0.510975        -0.345998        -0.408631   \n",
       "\n",
       "            ENSG00000070476  ENSG00000203995  ENSG00000162378  \\\n",
       "ACH-000004         0.205685         0.197798        -0.347782   \n",
       "ACH-000005         0.126581         0.033066        -0.060746   \n",
       "ACH-000007         0.158380         0.001434        -0.255654   \n",
       "ACH-000009         0.043411         0.018276        -0.398310   \n",
       "ACH-000011         0.241005         0.141594        -0.177939   \n",
       "\n",
       "            ENSG00000159840  ENSG00000074755  \n",
       "ACH-000004         0.212048         0.202099  \n",
       "ACH-000005         0.443834        -0.091548  \n",
       "ACH-000007         0.065777        -0.314659  \n",
       "ACH-000009         0.151885        -0.124333  \n",
       "ACH-000011         0.092722        -0.161591  \n",
       "\n",
       "[5 rows x 16732 columns]"
      ]
     },
     "execution_count": 10,
     "metadata": {},
     "output_type": "execute_result"
    }
   ],
   "source": [
    "# ensembl_df.to_csv('ensembl_df.csv')\n",
    "ensembl_df.head()"
   ]
  },
  {
   "cell_type": "code",
   "execution_count": 19,
   "metadata": {},
   "outputs": [],
   "source": [
    "gene_effect_threshold = -0.5 #threshold from which genes are considered effective\n",
    "cell_proportion_geneA_threshold = 0.4  #proportion of cells, geneA is considered effective in -> geneB must be effective in rest\n",
    "general_cell_coverage = 0.8  # proportion of cell lines covered by geneA and geneB"
   ]
  },
  {
   "cell_type": "code",
   "execution_count": 27,
   "metadata": {},
   "outputs": [
    {
     "ename": "TypeError",
     "evalue": "'<' not supported between instances of 'builtin_function_or_method' and 'float'",
     "output_type": "error",
     "traceback": [
      "\u001b[1;31m---------------------------------------------------------------------------\u001b[0m",
      "\u001b[1;31mTypeError\u001b[0m                                 Traceback (most recent call last)",
      "\u001b[1;32m<ipython-input-27-27fd6594d2cf>\u001b[0m in \u001b[0;36m<module>\u001b[1;34m\u001b[0m\n\u001b[0;32m     10\u001b[0m     \u001b[0mnumber_effective_cells_per_gene\u001b[0m\u001b[1;33m[\u001b[0m\u001b[0mcol_gene\u001b[0m\u001b[1;33m.\u001b[0m\u001b[0mname\u001b[0m\u001b[1;33m]\u001b[0m \u001b[1;33m=\u001b[0m \u001b[0mlen\u001b[0m\u001b[1;33m(\u001b[0m\u001b[0meffective_cells\u001b[0m\u001b[1;33m)\u001b[0m\u001b[1;33m\u001b[0m\u001b[1;33m\u001b[0m\u001b[0m\n\u001b[0;32m     11\u001b[0m \u001b[1;33m\u001b[0m\u001b[0m\n\u001b[1;32m---> 12\u001b[1;33m \u001b[0mplt\u001b[0m\u001b[1;33m.\u001b[0m\u001b[0mhist\u001b[0m\u001b[1;33m(\u001b[0m\u001b[0mnumber_effective_cells_per_gene\u001b[0m\u001b[1;33m.\u001b[0m\u001b[0mvalues\u001b[0m\u001b[1;33m)\u001b[0m\u001b[1;33m\u001b[0m\u001b[1;33m\u001b[0m\u001b[0m\n\u001b[0m\u001b[0;32m     13\u001b[0m \u001b[0mplt\u001b[0m\u001b[1;33m.\u001b[0m\u001b[0mplot\u001b[0m\u001b[1;33m(\u001b[0m\u001b[1;33m)\u001b[0m\u001b[1;33m\u001b[0m\u001b[1;33m\u001b[0m\u001b[0m\n",
      "\u001b[1;32md:\\programme\\python\\lib\\site-packages\\matplotlib\\pyplot.py\u001b[0m in \u001b[0;36mhist\u001b[1;34m(x, bins, range, density, weights, cumulative, bottom, histtype, align, orientation, rwidth, log, color, label, stacked, data, **kwargs)\u001b[0m\n\u001b[0;32m   2608\u001b[0m         \u001b[0malign\u001b[0m\u001b[1;33m=\u001b[0m\u001b[0malign\u001b[0m\u001b[1;33m,\u001b[0m \u001b[0morientation\u001b[0m\u001b[1;33m=\u001b[0m\u001b[0morientation\u001b[0m\u001b[1;33m,\u001b[0m \u001b[0mrwidth\u001b[0m\u001b[1;33m=\u001b[0m\u001b[0mrwidth\u001b[0m\u001b[1;33m,\u001b[0m \u001b[0mlog\u001b[0m\u001b[1;33m=\u001b[0m\u001b[0mlog\u001b[0m\u001b[1;33m,\u001b[0m\u001b[1;33m\u001b[0m\u001b[1;33m\u001b[0m\u001b[0m\n\u001b[0;32m   2609\u001b[0m         color=color, label=label, stacked=stacked, **({\"data\": data}\n\u001b[1;32m-> 2610\u001b[1;33m         if data is not None else {}), **kwargs)\n\u001b[0m\u001b[0;32m   2611\u001b[0m \u001b[1;33m\u001b[0m\u001b[0m\n\u001b[0;32m   2612\u001b[0m \u001b[1;33m\u001b[0m\u001b[0m\n",
      "\u001b[1;32md:\\programme\\python\\lib\\site-packages\\matplotlib\\__init__.py\u001b[0m in \u001b[0;36minner\u001b[1;34m(ax, data, *args, **kwargs)\u001b[0m\n\u001b[0;32m   1563\u001b[0m     \u001b[1;32mdef\u001b[0m \u001b[0minner\u001b[0m\u001b[1;33m(\u001b[0m\u001b[0max\u001b[0m\u001b[1;33m,\u001b[0m \u001b[1;33m*\u001b[0m\u001b[0margs\u001b[0m\u001b[1;33m,\u001b[0m \u001b[0mdata\u001b[0m\u001b[1;33m=\u001b[0m\u001b[1;32mNone\u001b[0m\u001b[1;33m,\u001b[0m \u001b[1;33m**\u001b[0m\u001b[0mkwargs\u001b[0m\u001b[1;33m)\u001b[0m\u001b[1;33m:\u001b[0m\u001b[1;33m\u001b[0m\u001b[1;33m\u001b[0m\u001b[0m\n\u001b[0;32m   1564\u001b[0m         \u001b[1;32mif\u001b[0m \u001b[0mdata\u001b[0m \u001b[1;32mis\u001b[0m \u001b[1;32mNone\u001b[0m\u001b[1;33m:\u001b[0m\u001b[1;33m\u001b[0m\u001b[1;33m\u001b[0m\u001b[0m\n\u001b[1;32m-> 1565\u001b[1;33m             \u001b[1;32mreturn\u001b[0m \u001b[0mfunc\u001b[0m\u001b[1;33m(\u001b[0m\u001b[0max\u001b[0m\u001b[1;33m,\u001b[0m \u001b[1;33m*\u001b[0m\u001b[0mmap\u001b[0m\u001b[1;33m(\u001b[0m\u001b[0msanitize_sequence\u001b[0m\u001b[1;33m,\u001b[0m \u001b[0margs\u001b[0m\u001b[1;33m)\u001b[0m\u001b[1;33m,\u001b[0m \u001b[1;33m**\u001b[0m\u001b[0mkwargs\u001b[0m\u001b[1;33m)\u001b[0m\u001b[1;33m\u001b[0m\u001b[1;33m\u001b[0m\u001b[0m\n\u001b[0m\u001b[0;32m   1566\u001b[0m \u001b[1;33m\u001b[0m\u001b[0m\n\u001b[0;32m   1567\u001b[0m         \u001b[0mbound\u001b[0m \u001b[1;33m=\u001b[0m \u001b[0mnew_sig\u001b[0m\u001b[1;33m.\u001b[0m\u001b[0mbind\u001b[0m\u001b[1;33m(\u001b[0m\u001b[0max\u001b[0m\u001b[1;33m,\u001b[0m \u001b[1;33m*\u001b[0m\u001b[0margs\u001b[0m\u001b[1;33m,\u001b[0m \u001b[1;33m**\u001b[0m\u001b[0mkwargs\u001b[0m\u001b[1;33m)\u001b[0m\u001b[1;33m\u001b[0m\u001b[1;33m\u001b[0m\u001b[0m\n",
      "\u001b[1;32md:\\programme\\python\\lib\\site-packages\\matplotlib\\axes\\_axes.py\u001b[0m in \u001b[0;36mhist\u001b[1;34m(self, x, bins, range, density, weights, cumulative, bottom, histtype, align, orientation, rwidth, log, color, label, stacked, **kwargs)\u001b[0m\n\u001b[0;32m   6617\u001b[0m                     \u001b[1;31m# python's min/max ignore nan,\u001b[0m\u001b[1;33m\u001b[0m\u001b[1;33m\u001b[0m\u001b[1;33m\u001b[0m\u001b[0m\n\u001b[0;32m   6618\u001b[0m                     \u001b[1;31m# np.minnan returns nan for all nan input\u001b[0m\u001b[1;33m\u001b[0m\u001b[1;33m\u001b[0m\u001b[1;33m\u001b[0m\u001b[0m\n\u001b[1;32m-> 6619\u001b[1;33m                     \u001b[0mxmin\u001b[0m \u001b[1;33m=\u001b[0m \u001b[0mmin\u001b[0m\u001b[1;33m(\u001b[0m\u001b[0mxmin\u001b[0m\u001b[1;33m,\u001b[0m \u001b[0mnp\u001b[0m\u001b[1;33m.\u001b[0m\u001b[0mnanmin\u001b[0m\u001b[1;33m(\u001b[0m\u001b[0mxi\u001b[0m\u001b[1;33m)\u001b[0m\u001b[1;33m)\u001b[0m\u001b[1;33m\u001b[0m\u001b[1;33m\u001b[0m\u001b[0m\n\u001b[0m\u001b[0;32m   6620\u001b[0m                     \u001b[0mxmax\u001b[0m \u001b[1;33m=\u001b[0m \u001b[0mmax\u001b[0m\u001b[1;33m(\u001b[0m\u001b[0mxmax\u001b[0m\u001b[1;33m,\u001b[0m \u001b[0mnp\u001b[0m\u001b[1;33m.\u001b[0m\u001b[0mnanmax\u001b[0m\u001b[1;33m(\u001b[0m\u001b[0mxi\u001b[0m\u001b[1;33m)\u001b[0m\u001b[1;33m)\u001b[0m\u001b[1;33m\u001b[0m\u001b[1;33m\u001b[0m\u001b[0m\n\u001b[0;32m   6621\u001b[0m             \u001b[1;31m# make sure we have seen at least one non-nan and finite\u001b[0m\u001b[1;33m\u001b[0m\u001b[1;33m\u001b[0m\u001b[1;33m\u001b[0m\u001b[0m\n",
      "\u001b[1;31mTypeError\u001b[0m: '<' not supported between instances of 'builtin_function_or_method' and 'float'"
     ]
    },
    {
     "data": {
      "image/png": "[encoded data removed]",
      "text/plain": [
       "<Figure size 432x288 with 1 Axes>"
      ]
     },
     "metadata": {
      "needs_background": "light"
     },
     "output_type": "display_data"
    }
   ],
   "source": [
    "effective_cells_per_gene = defaultdict(str)\n",
    "number_effective_cells_per_gene = defaultdict(int)\n",
    "\n",
    "\n",
    "# get effective cell lines for each gene\n",
    "for i in range(ensembl_df.shape[1]):\n",
    "    col_gene = ensembl_df.iloc[:,i]\n",
    "    effective_cells = col_gene.loc[col_gene < gene_effect_threshold]\n",
    "    effective_cells_per_gene[col_gene.name] = effective_cells\n",
    "    number_effective_cells_per_gene[col_gene.name] = len(effective_cells)\n",
    "\n"
   ]
  },
  {
   "cell_type": "code",
   "execution_count": 30,
   "metadata": {},
   "outputs": [
    {
     "data": {
      "text/plain": [
       "[]"
      ]
     },
     "execution_count": 30,
     "metadata": {},
     "output_type": "execute_result"
    },
    {
     "data": {
      "image/png": "[encoded data removed]",
      "text/plain": [
       "<Figure size 432x288 with 1 Axes>"
      ]
     },
     "metadata": {
      "needs_background": "light"
     },
     "output_type": "display_data"
    }
   ],
   "source": [
    "plt.hist(number_effective_cells_per_gene.values(), bins = 100 )\n",
    "plt.plot()"
   ]
  },
  {
   "cell_type": "code",
   "execution_count": 13,
   "metadata": {},
   "outputs": [],
   "source": [
    "def intersection(lst1, lst2):\n",
    "    return [value for value in lst1 if value in set(lst2)]"
   ]
  },
  {
   "cell_type": "code",
   "execution_count": 25,
   "metadata": {},
   "outputs": [
    {
     "name": "stdout",
     "output_type": "stream",
     "text": [
      "Gene A: 300\n",
      "6691.8\n",
      "6691.8\n",
      "6691.8\n",
      "6691.8\n",
      "6691.8\n",
      "6691.8\n",
      "6691.8\n",
      "6691.8\n",
      "6691.8\n",
      "6691.8\n",
      "6691.8\n",
      "6691.8\n",
      "6691.8\n",
      "6691.8\n",
      "6691.8\n",
      "6691.8\n",
      "6691.8\n",
      "6691.8\n",
      "Gene A: 310\n",
      "6690.8\n",
      "6690.8\n",
      "6690.8\n",
      "6690.8\n",
      "6690.8\n",
      "6690.8\n",
      "6690.8\n",
      "6690.8\n",
      "6690.8\n",
      "6690.8\n",
      "6690.8\n",
      "6690.8\n",
      "6568.8\n",
      "6568.8\n",
      "6568.8\n",
      "6568.8\n",
      "6568.8\n",
      "6568.8\n",
      "Gene A: 320\n",
      "6691.8\n",
      "6691.8\n",
      "6691.8\n",
      "6691.8\n",
      "6691.8\n",
      "6691.8\n",
      "6691.8\n",
      "6691.8\n",
      "6691.8\n"
     ]
    },
    {
     "ename": "KeyboardInterrupt",
     "evalue": "",
     "output_type": "error",
     "traceback": [
      "\u001b[1;31m---------------------------------------------------------------------------\u001b[0m",
      "\u001b[1;31mKeyboardInterrupt\u001b[0m                         Traceback (most recent call last)",
      "\u001b[1;32m<ipython-input-25-b516a101c086>\u001b[0m in \u001b[0;36m<module>\u001b[1;34m\u001b[0m\n\u001b[0;32m     14\u001b[0m     \u001b[1;32mfor\u001b[0m \u001b[0mj\u001b[0m \u001b[1;32min\u001b[0m \u001b[0mrange\u001b[0m\u001b[1;33m(\u001b[0m\u001b[0mensembl_df\u001b[0m\u001b[1;33m.\u001b[0m\u001b[0mshape\u001b[0m\u001b[1;33m[\u001b[0m\u001b[1;36m1\u001b[0m\u001b[1;33m]\u001b[0m\u001b[1;33m)\u001b[0m\u001b[1;33m:\u001b[0m\u001b[1;33m\u001b[0m\u001b[1;33m\u001b[0m\u001b[0m\n\u001b[0;32m     15\u001b[0m         \u001b[1;32mif\u001b[0m \u001b[0mi\u001b[0m \u001b[1;33m!=\u001b[0m \u001b[0mj\u001b[0m\u001b[1;33m:\u001b[0m\u001b[1;33m\u001b[0m\u001b[1;33m\u001b[0m\u001b[0m\n\u001b[1;32m---> 16\u001b[1;33m             \u001b[0mcol_geneB\u001b[0m \u001b[1;33m=\u001b[0m \u001b[0mensembl_df\u001b[0m\u001b[1;33m.\u001b[0m\u001b[0miloc\u001b[0m\u001b[1;33m[\u001b[0m\u001b[1;33m:\u001b[0m\u001b[1;33m,\u001b[0m\u001b[0mj\u001b[0m\u001b[1;33m]\u001b[0m\u001b[1;33m\u001b[0m\u001b[1;33m\u001b[0m\u001b[0m\n\u001b[0m\u001b[0;32m     17\u001b[0m             \u001b[0mmin_coverage_gene_B\u001b[0m \u001b[1;33m=\u001b[0m \u001b[0mgeneral_cell_coverage\u001b[0m \u001b[1;33m*\u001b[0m \u001b[0mensembl_df\u001b[0m\u001b[1;33m.\u001b[0m\u001b[0mshape\u001b[0m\u001b[1;33m[\u001b[0m\u001b[1;36m1\u001b[0m\u001b[1;33m]\u001b[0m \u001b[1;33m-\u001b[0m \u001b[0mnumber_effective_cells_per_gene\u001b[0m\u001b[1;33m[\u001b[0m\u001b[0mcol_geneA\u001b[0m\u001b[1;33m.\u001b[0m\u001b[0mname\u001b[0m\u001b[1;33m]\u001b[0m\u001b[1;33m\u001b[0m\u001b[1;33m\u001b[0m\u001b[0m\n\u001b[0;32m     18\u001b[0m             \u001b[1;32mif\u001b[0m \u001b[0mnumber_effective_cells_per_gene\u001b[0m\u001b[1;33m[\u001b[0m\u001b[0mcol_geneB\u001b[0m\u001b[1;33m.\u001b[0m\u001b[0mname\u001b[0m\u001b[1;33m]\u001b[0m \u001b[1;33m<\u001b[0m \u001b[0mmin_coverage_gene_B\u001b[0m\u001b[1;33m:\u001b[0m\u001b[1;33m\u001b[0m\u001b[1;33m\u001b[0m\u001b[0m\n",
      "\u001b[1;32md:\\programme\\python\\lib\\site-packages\\pandas\\core\\indexing.py\u001b[0m in \u001b[0;36m__getitem__\u001b[1;34m(self, key)\u001b[0m\n\u001b[0;32m   1760\u001b[0m                 \u001b[1;32mexcept\u001b[0m \u001b[1;33m(\u001b[0m\u001b[0mKeyError\u001b[0m\u001b[1;33m,\u001b[0m \u001b[0mIndexError\u001b[0m\u001b[1;33m,\u001b[0m \u001b[0mAttributeError\u001b[0m\u001b[1;33m)\u001b[0m\u001b[1;33m:\u001b[0m\u001b[1;33m\u001b[0m\u001b[1;33m\u001b[0m\u001b[0m\n\u001b[0;32m   1761\u001b[0m                     \u001b[1;32mpass\u001b[0m\u001b[1;33m\u001b[0m\u001b[1;33m\u001b[0m\u001b[0m\n\u001b[1;32m-> 1762\u001b[1;33m             \u001b[1;32mreturn\u001b[0m \u001b[0mself\u001b[0m\u001b[1;33m.\u001b[0m\u001b[0m_getitem_tuple\u001b[0m\u001b[1;33m(\u001b[0m\u001b[0mkey\u001b[0m\u001b[1;33m)\u001b[0m\u001b[1;33m\u001b[0m\u001b[1;33m\u001b[0m\u001b[0m\n\u001b[0m\u001b[0;32m   1763\u001b[0m         \u001b[1;32melse\u001b[0m\u001b[1;33m:\u001b[0m\u001b[1;33m\u001b[0m\u001b[1;33m\u001b[0m\u001b[0m\n\u001b[0;32m   1764\u001b[0m             \u001b[1;31m# we by definition only have the 0th axis\u001b[0m\u001b[1;33m\u001b[0m\u001b[1;33m\u001b[0m\u001b[1;33m\u001b[0m\u001b[0m\n",
      "\u001b[1;32md:\\programme\\python\\lib\\site-packages\\pandas\\core\\indexing.py\u001b[0m in \u001b[0;36m_getitem_tuple\u001b[1;34m(self, tup)\u001b[0m\n\u001b[0;32m   2067\u001b[0m         \u001b[0mself\u001b[0m\u001b[1;33m.\u001b[0m\u001b[0m_has_valid_tuple\u001b[0m\u001b[1;33m(\u001b[0m\u001b[0mtup\u001b[0m\u001b[1;33m)\u001b[0m\u001b[1;33m\u001b[0m\u001b[1;33m\u001b[0m\u001b[0m\n\u001b[0;32m   2068\u001b[0m         \u001b[1;32mtry\u001b[0m\u001b[1;33m:\u001b[0m\u001b[1;33m\u001b[0m\u001b[1;33m\u001b[0m\u001b[0m\n\u001b[1;32m-> 2069\u001b[1;33m             \u001b[1;32mreturn\u001b[0m \u001b[0mself\u001b[0m\u001b[1;33m.\u001b[0m\u001b[0m_getitem_lowerdim\u001b[0m\u001b[1;33m(\u001b[0m\u001b[0mtup\u001b[0m\u001b[1;33m)\u001b[0m\u001b[1;33m\u001b[0m\u001b[1;33m\u001b[0m\u001b[0m\n\u001b[0m\u001b[0;32m   2070\u001b[0m         \u001b[1;32mexcept\u001b[0m \u001b[0mIndexingError\u001b[0m\u001b[1;33m:\u001b[0m\u001b[1;33m\u001b[0m\u001b[1;33m\u001b[0m\u001b[0m\n\u001b[0;32m   2071\u001b[0m             \u001b[1;32mpass\u001b[0m\u001b[1;33m\u001b[0m\u001b[1;33m\u001b[0m\u001b[0m\n",
      "\u001b[1;32md:\\programme\\python\\lib\\site-packages\\pandas\\core\\indexing.py\u001b[0m in \u001b[0;36m_getitem_lowerdim\u001b[1;34m(self, tup)\u001b[0m\n\u001b[0;32m   1387\u001b[0m         \u001b[1;32mfor\u001b[0m \u001b[0mi\u001b[0m\u001b[1;33m,\u001b[0m \u001b[0mkey\u001b[0m \u001b[1;32min\u001b[0m \u001b[0menumerate\u001b[0m\u001b[1;33m(\u001b[0m\u001b[0mtup\u001b[0m\u001b[1;33m)\u001b[0m\u001b[1;33m:\u001b[0m\u001b[1;33m\u001b[0m\u001b[1;33m\u001b[0m\u001b[0m\n\u001b[0;32m   1388\u001b[0m             \u001b[1;32mif\u001b[0m \u001b[0mis_label_like\u001b[0m\u001b[1;33m(\u001b[0m\u001b[0mkey\u001b[0m\u001b[1;33m)\u001b[0m \u001b[1;32mor\u001b[0m \u001b[0misinstance\u001b[0m\u001b[1;33m(\u001b[0m\u001b[0mkey\u001b[0m\u001b[1;33m,\u001b[0m \u001b[0mtuple\u001b[0m\u001b[1;33m)\u001b[0m\u001b[1;33m:\u001b[0m\u001b[1;33m\u001b[0m\u001b[1;33m\u001b[0m\u001b[0m\n\u001b[1;32m-> 1389\u001b[1;33m                 \u001b[0msection\u001b[0m \u001b[1;33m=\u001b[0m \u001b[0mself\u001b[0m\u001b[1;33m.\u001b[0m\u001b[0m_getitem_axis\u001b[0m\u001b[1;33m(\u001b[0m\u001b[0mkey\u001b[0m\u001b[1;33m,\u001b[0m \u001b[0maxis\u001b[0m\u001b[1;33m=\u001b[0m\u001b[0mi\u001b[0m\u001b[1;33m)\u001b[0m\u001b[1;33m\u001b[0m\u001b[1;33m\u001b[0m\u001b[0m\n\u001b[0m\u001b[0;32m   1390\u001b[0m \u001b[1;33m\u001b[0m\u001b[0m\n\u001b[0;32m   1391\u001b[0m                 \u001b[1;31m# we have yielded a scalar ?\u001b[0m\u001b[1;33m\u001b[0m\u001b[1;33m\u001b[0m\u001b[1;33m\u001b[0m\u001b[0m\n",
      "\u001b[1;32md:\\programme\\python\\lib\\site-packages\\pandas\\core\\indexing.py\u001b[0m in \u001b[0;36m_getitem_axis\u001b[1;34m(self, key, axis)\u001b[0m\n\u001b[0;32m   2138\u001b[0m             \u001b[0mself\u001b[0m\u001b[1;33m.\u001b[0m\u001b[0m_validate_integer\u001b[0m\u001b[1;33m(\u001b[0m\u001b[0mkey\u001b[0m\u001b[1;33m,\u001b[0m \u001b[0maxis\u001b[0m\u001b[1;33m)\u001b[0m\u001b[1;33m\u001b[0m\u001b[1;33m\u001b[0m\u001b[0m\n\u001b[0;32m   2139\u001b[0m \u001b[1;33m\u001b[0m\u001b[0m\n\u001b[1;32m-> 2140\u001b[1;33m             \u001b[1;32mreturn\u001b[0m \u001b[0mself\u001b[0m\u001b[1;33m.\u001b[0m\u001b[0m_get_loc\u001b[0m\u001b[1;33m(\u001b[0m\u001b[0mkey\u001b[0m\u001b[1;33m,\u001b[0m \u001b[0maxis\u001b[0m\u001b[1;33m=\u001b[0m\u001b[0maxis\u001b[0m\u001b[1;33m)\u001b[0m\u001b[1;33m\u001b[0m\u001b[1;33m\u001b[0m\u001b[0m\n\u001b[0m\u001b[0;32m   2141\u001b[0m \u001b[1;33m\u001b[0m\u001b[0m\n\u001b[0;32m   2142\u001b[0m     \u001b[1;31m# raise_missing is included for compat with the parent class signature\u001b[0m\u001b[1;33m\u001b[0m\u001b[1;33m\u001b[0m\u001b[1;33m\u001b[0m\u001b[0m\n",
      "\u001b[1;32md:\\programme\\python\\lib\\site-packages\\pandas\\core\\indexing.py\u001b[0m in \u001b[0;36m_get_loc\u001b[1;34m(self, key, axis)\u001b[0m\n\u001b[0;32m    626\u001b[0m \u001b[1;33m\u001b[0m\u001b[0m\n\u001b[0;32m    627\u001b[0m     \u001b[1;32mdef\u001b[0m \u001b[0m_get_loc\u001b[0m\u001b[1;33m(\u001b[0m\u001b[0mself\u001b[0m\u001b[1;33m,\u001b[0m \u001b[0mkey\u001b[0m\u001b[1;33m:\u001b[0m \u001b[0mint\u001b[0m\u001b[1;33m,\u001b[0m \u001b[0maxis\u001b[0m\u001b[1;33m:\u001b[0m \u001b[0mint\u001b[0m\u001b[1;33m)\u001b[0m\u001b[1;33m:\u001b[0m\u001b[1;33m\u001b[0m\u001b[1;33m\u001b[0m\u001b[0m\n\u001b[1;32m--> 628\u001b[1;33m         \u001b[1;32mreturn\u001b[0m \u001b[0mself\u001b[0m\u001b[1;33m.\u001b[0m\u001b[0mobj\u001b[0m\u001b[1;33m.\u001b[0m\u001b[0m_ixs\u001b[0m\u001b[1;33m(\u001b[0m\u001b[0mkey\u001b[0m\u001b[1;33m,\u001b[0m \u001b[0maxis\u001b[0m\u001b[1;33m=\u001b[0m\u001b[0maxis\u001b[0m\u001b[1;33m)\u001b[0m\u001b[1;33m\u001b[0m\u001b[1;33m\u001b[0m\u001b[0m\n\u001b[0m\u001b[0;32m    629\u001b[0m \u001b[1;33m\u001b[0m\u001b[0m\n\u001b[0;32m    630\u001b[0m     \u001b[1;32mdef\u001b[0m \u001b[0m_slice\u001b[0m\u001b[1;33m(\u001b[0m\u001b[0mself\u001b[0m\u001b[1;33m,\u001b[0m \u001b[0mobj\u001b[0m\u001b[1;33m,\u001b[0m \u001b[0maxis\u001b[0m\u001b[1;33m:\u001b[0m \u001b[0mint\u001b[0m\u001b[1;33m,\u001b[0m \u001b[0mkind\u001b[0m\u001b[1;33m=\u001b[0m\u001b[1;32mNone\u001b[0m\u001b[1;33m)\u001b[0m\u001b[1;33m:\u001b[0m\u001b[1;33m\u001b[0m\u001b[1;33m\u001b[0m\u001b[0m\n",
      "\u001b[1;32md:\\programme\\python\\lib\\site-packages\\pandas\\core\\frame.py\u001b[0m in \u001b[0;36m_ixs\u001b[1;34m(self, i, axis)\u001b[0m\n\u001b[0;32m   2758\u001b[0m             \u001b[1;32mif\u001b[0m \u001b[0mlen\u001b[0m\u001b[1;33m(\u001b[0m\u001b[0mself\u001b[0m\u001b[1;33m.\u001b[0m\u001b[0mindex\u001b[0m\u001b[1;33m)\u001b[0m \u001b[1;32mand\u001b[0m \u001b[1;32mnot\u001b[0m \u001b[0mlen\u001b[0m\u001b[1;33m(\u001b[0m\u001b[0mvalues\u001b[0m\u001b[1;33m)\u001b[0m\u001b[1;33m:\u001b[0m\u001b[1;33m\u001b[0m\u001b[1;33m\u001b[0m\u001b[0m\n\u001b[0;32m   2759\u001b[0m                 \u001b[0mvalues\u001b[0m \u001b[1;33m=\u001b[0m \u001b[0mnp\u001b[0m\u001b[1;33m.\u001b[0m\u001b[0marray\u001b[0m\u001b[1;33m(\u001b[0m\u001b[1;33m[\u001b[0m\u001b[0mnp\u001b[0m\u001b[1;33m.\u001b[0m\u001b[0mnan\u001b[0m\u001b[1;33m]\u001b[0m \u001b[1;33m*\u001b[0m \u001b[0mlen\u001b[0m\u001b[1;33m(\u001b[0m\u001b[0mself\u001b[0m\u001b[1;33m.\u001b[0m\u001b[0mindex\u001b[0m\u001b[1;33m)\u001b[0m\u001b[1;33m,\u001b[0m \u001b[0mdtype\u001b[0m\u001b[1;33m=\u001b[0m\u001b[0mobject\u001b[0m\u001b[1;33m)\u001b[0m\u001b[1;33m\u001b[0m\u001b[1;33m\u001b[0m\u001b[0m\n\u001b[1;32m-> 2760\u001b[1;33m             \u001b[0mresult\u001b[0m \u001b[1;33m=\u001b[0m \u001b[0mself\u001b[0m\u001b[1;33m.\u001b[0m\u001b[0m_box_col_values\u001b[0m\u001b[1;33m(\u001b[0m\u001b[0mvalues\u001b[0m\u001b[1;33m,\u001b[0m \u001b[0mlabel\u001b[0m\u001b[1;33m)\u001b[0m\u001b[1;33m\u001b[0m\u001b[1;33m\u001b[0m\u001b[0m\n\u001b[0m\u001b[0;32m   2761\u001b[0m \u001b[1;33m\u001b[0m\u001b[0m\n\u001b[0;32m   2762\u001b[0m             \u001b[1;31m# this is a cached value, mark it so\u001b[0m\u001b[1;33m\u001b[0m\u001b[1;33m\u001b[0m\u001b[1;33m\u001b[0m\u001b[0m\n",
      "\u001b[1;32md:\\programme\\python\\lib\\site-packages\\pandas\\core\\frame.py\u001b[0m in \u001b[0;36m_box_col_values\u001b[1;34m(self, values, items)\u001b[0m\n\u001b[0;32m   3076\u001b[0m         \"\"\"\n\u001b[0;32m   3077\u001b[0m         \u001b[0mklass\u001b[0m \u001b[1;33m=\u001b[0m \u001b[0mself\u001b[0m\u001b[1;33m.\u001b[0m\u001b[0m_constructor_sliced\u001b[0m\u001b[1;33m\u001b[0m\u001b[1;33m\u001b[0m\u001b[0m\n\u001b[1;32m-> 3078\u001b[1;33m         \u001b[1;32mreturn\u001b[0m \u001b[0mklass\u001b[0m\u001b[1;33m(\u001b[0m\u001b[0mvalues\u001b[0m\u001b[1;33m,\u001b[0m \u001b[0mindex\u001b[0m\u001b[1;33m=\u001b[0m\u001b[0mself\u001b[0m\u001b[1;33m.\u001b[0m\u001b[0mindex\u001b[0m\u001b[1;33m,\u001b[0m \u001b[0mname\u001b[0m\u001b[1;33m=\u001b[0m\u001b[0mitems\u001b[0m\u001b[1;33m,\u001b[0m \u001b[0mfastpath\u001b[0m\u001b[1;33m=\u001b[0m\u001b[1;32mTrue\u001b[0m\u001b[1;33m)\u001b[0m\u001b[1;33m\u001b[0m\u001b[1;33m\u001b[0m\u001b[0m\n\u001b[0m\u001b[0;32m   3079\u001b[0m \u001b[1;33m\u001b[0m\u001b[0m\n\u001b[0;32m   3080\u001b[0m     \u001b[1;31m# ----------------------------------------------------------------------\u001b[0m\u001b[1;33m\u001b[0m\u001b[1;33m\u001b[0m\u001b[1;33m\u001b[0m\u001b[0m\n",
      "\u001b[1;32md:\\programme\\python\\lib\\site-packages\\pandas\\core\\series.py\u001b[0m in \u001b[0;36m__init__\u001b[1;34m(self, data, index, dtype, name, copy, fastpath)\u001b[0m\n\u001b[0;32m    189\u001b[0m \u001b[1;33m\u001b[0m\u001b[0m\n\u001b[0;32m    190\u001b[0m             \u001b[1;31m# data is an ndarray, index is defined\u001b[0m\u001b[1;33m\u001b[0m\u001b[1;33m\u001b[0m\u001b[1;33m\u001b[0m\u001b[0m\n\u001b[1;32m--> 191\u001b[1;33m             \u001b[1;32mif\u001b[0m \u001b[1;32mnot\u001b[0m \u001b[0misinstance\u001b[0m\u001b[1;33m(\u001b[0m\u001b[0mdata\u001b[0m\u001b[1;33m,\u001b[0m \u001b[0mSingleBlockManager\u001b[0m\u001b[1;33m)\u001b[0m\u001b[1;33m:\u001b[0m\u001b[1;33m\u001b[0m\u001b[1;33m\u001b[0m\u001b[0m\n\u001b[0m\u001b[0;32m    192\u001b[0m                 \u001b[0mdata\u001b[0m \u001b[1;33m=\u001b[0m \u001b[0mSingleBlockManager\u001b[0m\u001b[1;33m(\u001b[0m\u001b[0mdata\u001b[0m\u001b[1;33m,\u001b[0m \u001b[0mindex\u001b[0m\u001b[1;33m,\u001b[0m \u001b[0mfastpath\u001b[0m\u001b[1;33m=\u001b[0m\u001b[1;32mTrue\u001b[0m\u001b[1;33m)\u001b[0m\u001b[1;33m\u001b[0m\u001b[1;33m\u001b[0m\u001b[0m\n\u001b[0;32m    193\u001b[0m             \u001b[1;32mif\u001b[0m \u001b[0mcopy\u001b[0m\u001b[1;33m:\u001b[0m\u001b[1;33m\u001b[0m\u001b[1;33m\u001b[0m\u001b[0m\n",
      "\u001b[1;31mKeyboardInterrupt\u001b[0m: "
     ]
    }
   ],
   "source": [
    "data = defaultdict(str)\n",
    "\n",
    "# build SL dataframe\n",
    "for i in range(300, ensembl_df.shape[1]):\n",
    "    if i % 10 == 0:\n",
    "        print(\"Gene A: {}\".format(i))\n",
    "    col_geneA = ensembl_df.iloc[:,i]  \n",
    "    \n",
    "    cell_proportion_geneA = number_effective_cells_per_gene[col_geneA.name] / ensembl_df.shape[0]\n",
    "    if not (0 < cell_proportion_geneA < cell_proportion_geneA_threshold):\n",
    "        continue\n",
    "    effective_cells_geneA = effective_cells_per_gene[col_geneA.name]\n",
    "\n",
    "    for j in range(ensembl_df.shape[1]):\n",
    "        if i != j:\n",
    "            col_geneB = ensembl_df.iloc[:,j]\n",
    "            min_coverage_gene_B = general_cell_coverage * ensembl_df.shape[1] - number_effective_cells_per_gene[col_geneA.name]\n",
    "            if number_effective_cells_per_gene[col_geneB.name] < min_coverage_gene_B:\n",
    "                if j % 3000 == 0:\n",
    "                    print(min_coverage_gene_B)\n",
    "                continue\n",
    "            effective_cells_geneB = effective_cells_per_gene[col_geneB.name]\n",
    "            \n",
    "            intersect = len(intersection(effective_cells_geneA, effective_cells_geneB))\n",
    "            cells_covered = number_effective_cells_geneA + number_effective_cells_geneB - intersect\n",
    "            print(\"hello I'm here!!!\")\n",
    "            if cells_covered/ensembl_df.shape[0] > general_cell_coverage:\n",
    "                if data[col_geneB.name] == col_geneA.name:\n",
    "                    continue\n",
    "                else:\n",
    "                    data[col_geneA.name] = col_geneB.name\n",
    "                    print(data)\n",
    "                \n",
    "sl_pairs = pd.DataFrame.from_dict(data, orient='index', columns=[\"gene_A\", \"gene_B\"])\n",
    "sl_pairs.head()"
   ]
  },
  {
   "cell_type": "code",
   "execution_count": null,
   "metadata": {
    "scrolled": true
   },
   "outputs": [],
   "source": [
    "gene_effect_threshold = -0.5 #threshold from which genes are considered effective\n",
    "proportion_threshold = 0.25  #threshold below which proportion of cells, genes are considered for SL Interaction\n",
    "\n",
    "\n",
    "effective_genes_with_right_prop = [] #list of effective genes with proportion below threshold\n",
    "proportion_effective_genes_in_cell_lines = [] \n",
    "number_effective_genes = 0 #number of genes with at least one effect size below threshold\n",
    "number_effective_genes_in_all_cell_lines = 0 #number of genes with effect sizes less than threshold in all cell lines.\n",
    "\n",
    "\n",
    "for i in range(1,df.shape[1]):\n",
    "    col = df.columns[i]\n",
    "    df_col = df.loc[:,col]  #dataframe corresponding to a gene (column)\n",
    "    \n",
    "    gene_effect_df = df_col.loc[df.loc[:,col] < gene_effect_threshold] #dataframe corresponding to a gene(column) with effect sizes below threshold\n",
    "    proportion_effective_gene_in_cell_lines = gene_effect_df.shape[0] / df.shape[0]\n",
    "    \n",
    "    if i % 1500 == 0:\n",
    "        print(gene_effect_df.index)\n",
    "    \n",
    "    if 0 < proportion_effective_gene_in_cell_lines < proportion_threshold:\n",
    "        number_effective_genes += 1\n",
    "        effective_genes_with_right_prop.append(i)\n",
    "        proportion_effective_genes_in_cell_lines.append(proportion_effective_gene_in_cell_lines)\n",
    "        \n",
    "print(\"Number of genes where 0 < proportion of cells with effect < \" + \n",
    "      str(proportion_threshold) + \": {}\".format(number_effective_genes))"
   ]
  },
  {
   "cell_type": "markdown",
   "metadata": {},
   "source": [
    "So from 9480 genes with effect size smaller than -0.5 in at least one cell line, in 7544 cell lines the proportion of cell lines being effective is below the proportion_threshold!"
   ]
  },
  {
   "cell_type": "code",
   "execution_count": 49,
   "metadata": {},
   "outputs": [],
   "source": [
    "prop_df = df.iloc[:,effective_genes_with_right_prop]   # df with all genes with the right proportion"
   ]
  },
  {
   "cell_type": "code",
   "execution_count": 95,
   "metadata": {},
   "outputs": [
    {
     "data": {
      "text/plain": [
       "(558, 7544)"
      ]
     },
     "execution_count": 95,
     "metadata": {},
     "output_type": "execute_result"
    }
   ],
   "source": [
    "prop_df.shape"
   ]
  },
  {
   "cell_type": "markdown",
   "metadata": {},
   "source": [
    "To get the synthetic lethal genes, we are interested in genes, where gene_A is effective in all cell lines, where Ggene_B is not effective, but gene_B has to be effective in the other cell lines!"
   ]
  },
  {
   "cell_type": "code",
   "execution_count": null,
   "metadata": {},
   "outputs": [],
   "source": []
  },
  {
   "cell_type": "code",
   "execution_count": null,
   "metadata": {},
   "outputs": [],
   "source": [
    "sl_pairs.to_csv"
   ]
  },
  {
   "cell_type": "code",
   "execution_count": null,
   "metadata": {},
   "outputs": [],
   "source": [
    "df.to_csv('file.csv', header=False, index=False)"
   ]
  }
 ],
 "metadata": {
  "kernelspec": {
   "display_name": "Python 3",
   "language": "python",
   "name": "python3"
  },
  "language_info": {
   "codemirror_mode": {
    "name": "ipython",
    "version": 3
   },
   "file_extension": ".py",
   "mimetype": "text/x-python",
   "name": "python",
   "nbconvert_exporter": "python",
   "pygments_lexer": "ipython3",
   "version": "3.7.7"
  }
 },
 "nbformat": 4,
 "nbformat_minor": 4
}
