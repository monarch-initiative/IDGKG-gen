{
 "cells": [
  {
   "cell_type": "code",
   "execution_count": 61,
   "metadata": {},
   "outputs": [],
   "source": [
    "import csv\n",
    "import wget\n",
    "import pandas as pd\n",
    "import itertools\n",
    "import matplotlib.pyplot as plt\n",
    "import os\n",
    "import numpy as np\n"
   ]
  },
  {
   "cell_type": "markdown",
   "metadata": {},
   "source": [
    "Load the data\n",
    "\n",
    "The “gene effect” file contains the corrected CERES scores, which measure the effect size of knocking out a gene, normalized against the distributions of non-essential and pan-essential genes. Columns are genes, rows are cell lines. A more negative CERES score indicates depletion of the gene in that cell line, indicating that it is an essential gene for cell viability.\n",
    "\n",
    "For simplicity, we call a gene \"effective\", if the effect size of that gene is below -0.5.\n"
   ]
  },
  {
   "cell_type": "code",
   "execution_count": 2,
   "metadata": {},
   "outputs": [],
   "source": [
    "url = 'https://ndownloader.figshare.com/files/14221385'\n",
    "filename = 'D:/Uni/JAX/SL/IDGKG-gen/data/gene_effect_corrected.csv' # path to the file\n",
    "\n",
    "if not os.path.exists(filename):\n",
    "    filename = wget.download(url)\n",
    "    \n",
    "df = pd.read_csv(filename)"
   ]
  },
  {
   "cell_type": "code",
   "execution_count": 45,
   "metadata": {},
   "outputs": [
    {
     "data": {
      "text/html": [
       "<div>\n",
       "<style scoped>\n",
       "    .dataframe tbody tr th:only-of-type {\n",
       "        vertical-align: middle;\n",
       "    }\n",
       "\n",
       "    .dataframe tbody tr th {\n",
       "        vertical-align: top;\n",
       "    }\n",
       "\n",
       "    .dataframe thead th {\n",
       "        text-align: right;\n",
       "    }\n",
       "</style>\n",
       "<table border=\"1\" class=\"dataframe\">\n",
       "  <thead>\n",
       "    <tr style=\"text-align: right;\">\n",
       "      <th></th>\n",
       "      <th>Unnamed: 0</th>\n",
       "      <th>A1BG (1)</th>\n",
       "      <th>A1CF (29974)</th>\n",
       "      <th>A2M (2)</th>\n",
       "      <th>A2ML1 (144568)</th>\n",
       "      <th>A3GALT2 (127550)</th>\n",
       "      <th>A4GALT (53947)</th>\n",
       "      <th>A4GNT (51146)</th>\n",
       "      <th>AAAS (8086)</th>\n",
       "      <th>AACS (65985)</th>\n",
       "      <th>...</th>\n",
       "      <th>ZUFSP (221302)</th>\n",
       "      <th>ZW10 (9183)</th>\n",
       "      <th>ZWILCH (55055)</th>\n",
       "      <th>ZWINT (11130)</th>\n",
       "      <th>ZXDC (79364)</th>\n",
       "      <th>ZYG11A (440590)</th>\n",
       "      <th>ZYG11B (79699)</th>\n",
       "      <th>ZYX (7791)</th>\n",
       "      <th>ZZEF1 (23140)</th>\n",
       "      <th>ZZZ3 (26009)</th>\n",
       "    </tr>\n",
       "  </thead>\n",
       "  <tbody>\n",
       "    <tr>\n",
       "      <th>0</th>\n",
       "      <td>ACH-000004</td>\n",
       "      <td>0.134645</td>\n",
       "      <td>0.075536</td>\n",
       "      <td>-0.140209</td>\n",
       "      <td>0.013928</td>\n",
       "      <td>0.029131</td>\n",
       "      <td>-0.147284</td>\n",
       "      <td>0.275829</td>\n",
       "      <td>-0.363633</td>\n",
       "      <td>0.250165</td>\n",
       "      <td>...</td>\n",
       "      <td>-0.125018</td>\n",
       "      <td>-0.145802</td>\n",
       "      <td>-0.095429</td>\n",
       "      <td>-0.396903</td>\n",
       "      <td>0.205685</td>\n",
       "      <td>0.197798</td>\n",
       "      <td>-0.347782</td>\n",
       "      <td>0.212048</td>\n",
       "      <td>0.202099</td>\n",
       "      <td>-0.123465</td>\n",
       "    </tr>\n",
       "    <tr>\n",
       "      <th>1</th>\n",
       "      <td>ACH-000005</td>\n",
       "      <td>-0.212445</td>\n",
       "      <td>0.233124</td>\n",
       "      <td>0.044365</td>\n",
       "      <td>0.173837</td>\n",
       "      <td>-0.124389</td>\n",
       "      <td>-0.298849</td>\n",
       "      <td>0.120260</td>\n",
       "      <td>-0.339925</td>\n",
       "      <td>-0.011309</td>\n",
       "      <td>...</td>\n",
       "      <td>-0.142212</td>\n",
       "      <td>-0.377179</td>\n",
       "      <td>-0.109019</td>\n",
       "      <td>-0.544686</td>\n",
       "      <td>0.126581</td>\n",
       "      <td>0.033066</td>\n",
       "      <td>-0.060746</td>\n",
       "      <td>0.443834</td>\n",
       "      <td>-0.091548</td>\n",
       "      <td>0.065104</td>\n",
       "    </tr>\n",
       "    <tr>\n",
       "      <th>2</th>\n",
       "      <td>ACH-000007</td>\n",
       "      <td>0.043318</td>\n",
       "      <td>0.066838</td>\n",
       "      <td>-0.036197</td>\n",
       "      <td>0.134781</td>\n",
       "      <td>0.082996</td>\n",
       "      <td>0.119084</td>\n",
       "      <td>0.057116</td>\n",
       "      <td>-0.352541</td>\n",
       "      <td>-0.005800</td>\n",
       "      <td>...</td>\n",
       "      <td>-0.063270</td>\n",
       "      <td>-0.469378</td>\n",
       "      <td>-0.068437</td>\n",
       "      <td>-0.207803</td>\n",
       "      <td>0.158380</td>\n",
       "      <td>0.001434</td>\n",
       "      <td>-0.255654</td>\n",
       "      <td>0.065777</td>\n",
       "      <td>-0.314659</td>\n",
       "      <td>-0.358418</td>\n",
       "    </tr>\n",
       "    <tr>\n",
       "      <th>3</th>\n",
       "      <td>ACH-000009</td>\n",
       "      <td>0.070512</td>\n",
       "      <td>0.008430</td>\n",
       "      <td>0.027114</td>\n",
       "      <td>0.055927</td>\n",
       "      <td>0.046325</td>\n",
       "      <td>0.015968</td>\n",
       "      <td>0.053502</td>\n",
       "      <td>-0.498860</td>\n",
       "      <td>0.110794</td>\n",
       "      <td>...</td>\n",
       "      <td>0.114418</td>\n",
       "      <td>-0.374999</td>\n",
       "      <td>-0.204950</td>\n",
       "      <td>-0.196839</td>\n",
       "      <td>0.043411</td>\n",
       "      <td>0.018276</td>\n",
       "      <td>-0.398310</td>\n",
       "      <td>0.151885</td>\n",
       "      <td>-0.124333</td>\n",
       "      <td>-0.391758</td>\n",
       "    </tr>\n",
       "    <tr>\n",
       "      <th>4</th>\n",
       "      <td>ACH-000011</td>\n",
       "      <td>0.190935</td>\n",
       "      <td>0.083952</td>\n",
       "      <td>-0.000741</td>\n",
       "      <td>0.353375</td>\n",
       "      <td>-0.037044</td>\n",
       "      <td>-0.205803</td>\n",
       "      <td>0.071275</td>\n",
       "      <td>-0.317310</td>\n",
       "      <td>0.099824</td>\n",
       "      <td>...</td>\n",
       "      <td>0.052517</td>\n",
       "      <td>-0.510975</td>\n",
       "      <td>-0.345998</td>\n",
       "      <td>-0.408631</td>\n",
       "      <td>0.241005</td>\n",
       "      <td>0.141594</td>\n",
       "      <td>-0.177939</td>\n",
       "      <td>0.092722</td>\n",
       "      <td>-0.161591</td>\n",
       "      <td>-0.329937</td>\n",
       "    </tr>\n",
       "  </tbody>\n",
       "</table>\n",
       "<p>5 rows × 17635 columns</p>\n",
       "</div>"
      ],
      "text/plain": [
       "   Unnamed: 0  A1BG (1)  A1CF (29974)   A2M (2)  A2ML1 (144568)  \\\n",
       "0  ACH-000004  0.134645      0.075536 -0.140209        0.013928   \n",
       "1  ACH-000005 -0.212445      0.233124  0.044365        0.173837   \n",
       "2  ACH-000007  0.043318      0.066838 -0.036197        0.134781   \n",
       "3  ACH-000009  0.070512      0.008430  0.027114        0.055927   \n",
       "4  ACH-000011  0.190935      0.083952 -0.000741        0.353375   \n",
       "\n",
       "   A3GALT2 (127550)  A4GALT (53947)  A4GNT (51146)  AAAS (8086)  AACS (65985)  \\\n",
       "0          0.029131       -0.147284       0.275829    -0.363633      0.250165   \n",
       "1         -0.124389       -0.298849       0.120260    -0.339925     -0.011309   \n",
       "2          0.082996        0.119084       0.057116    -0.352541     -0.005800   \n",
       "3          0.046325        0.015968       0.053502    -0.498860      0.110794   \n",
       "4         -0.037044       -0.205803       0.071275    -0.317310      0.099824   \n",
       "\n",
       "   ...  ZUFSP (221302)  ZW10 (9183)  ZWILCH (55055)  ZWINT (11130)  \\\n",
       "0  ...       -0.125018    -0.145802       -0.095429      -0.396903   \n",
       "1  ...       -0.142212    -0.377179       -0.109019      -0.544686   \n",
       "2  ...       -0.063270    -0.469378       -0.068437      -0.207803   \n",
       "3  ...        0.114418    -0.374999       -0.204950      -0.196839   \n",
       "4  ...        0.052517    -0.510975       -0.345998      -0.408631   \n",
       "\n",
       "   ZXDC (79364)  ZYG11A (440590)  ZYG11B (79699)  ZYX (7791)  ZZEF1 (23140)  \\\n",
       "0      0.205685         0.197798       -0.347782    0.212048       0.202099   \n",
       "1      0.126581         0.033066       -0.060746    0.443834      -0.091548   \n",
       "2      0.158380         0.001434       -0.255654    0.065777      -0.314659   \n",
       "3      0.043411         0.018276       -0.398310    0.151885      -0.124333   \n",
       "4      0.241005         0.141594       -0.177939    0.092722      -0.161591   \n",
       "\n",
       "   ZZZ3 (26009)  \n",
       "0     -0.123465  \n",
       "1      0.065104  \n",
       "2     -0.358418  \n",
       "3     -0.391758  \n",
       "4     -0.329937  \n",
       "\n",
       "[5 rows x 17635 columns]"
      ]
     },
     "execution_count": 45,
     "metadata": {},
     "output_type": "execute_result"
    }
   ],
   "source": [
    "\n",
    "#df_tr = pd.read_csv(filename).T\n",
    "#new_header = df_tr.iloc[0] #grab the first row for the header\n",
    "#df_tr = df_tr[1:] #take the data less the header row\n",
    "#df_tr.columns = new_header \n",
    "\n",
    "df.head() "
   ]
  },
  {
   "cell_type": "code",
   "execution_count": 54,
   "metadata": {
    "scrolled": true
   },
   "outputs": [
    {
     "name": "stdout",
     "output_type": "stream",
     "text": [
      "Number of genes where 0 < proportion of cells with effect < 0.25: 7544\n"
     ]
    }
   ],
   "source": [
    "gene_effect_threshold = -0.5 #threshold from which genes are considered effective\n",
    "proportion_threshold = 0.25  #threshold below which proportion of cells, genes are considered for SL Interaction\n",
    "\n",
    "\n",
    "effective_genes_with_right_prop = [] #list of effective genes with proportion below threshold\n",
    "proportion_effective_genes_in_cell_lines = [] \n",
    "number_effective_genes = 0 #number of genes with at least one effect size below threshold\n",
    "number_effective_genes_in_all_cell_lines = 0 #number of genes with effect sizes less than threshold in all cell lines.\n",
    "\n",
    "\n",
    "for i in range(1,df.shape[1]):\n",
    "    col = df.columns[i]\n",
    "    df_col = df.loc[:,col]  #dataframe corresponding to a gene (column)\n",
    "    \n",
    "    gene_effect_df = df_col.loc[df.loc[:,col] < gene_effect_threshold] #dataframe corresponding to a gene(column) with effect sizes below threshold\n",
    "    proportion_effective_gene_in_cell_lines = gene_effect_df.shape[0] / df.shape[0]\n",
    "    \n",
    "    if 0 < proportion_effective_gene_in_cell_lines < proportion_threshold:\n",
    "        number_effective_genes += 1\n",
    "        effective_genes_with_right_prop.append(i)\n",
    "        proportion_effective_genes_in_cell_lines.append(proportion_effective_gene_in_cell_lines)\n",
    "        \n",
    "print(\"Number of genes where 0 < proportion of cells with effect < \" + \n",
    "      str(proportion_threshold) + \": {}\".format(number_effective_genes))"
   ]
  },
  {
   "cell_type": "markdown",
   "metadata": {},
   "source": [
    "So from 9480 genes with effect size smaller than -0.5 in at least one cell line, in 7544 cell lines the proportion of cell lines being effective is below the proportion_threshold!"
   ]
  },
  {
   "cell_type": "code",
   "execution_count": 49,
   "metadata": {},
   "outputs": [],
   "source": [
    "prop_df = df.iloc[:,effective_genes_with_right_prop]   # df with all genes with the right proportion"
   ]
  },
  {
   "cell_type": "code",
   "execution_count": 95,
   "metadata": {},
   "outputs": [
    {
     "data": {
      "text/plain": [
       "(558, 7544)"
      ]
     },
     "execution_count": 95,
     "metadata": {},
     "output_type": "execute_result"
    }
   ],
   "source": [
    "prop_df.shape"
   ]
  },
  {
   "cell_type": "markdown",
   "metadata": {},
   "source": [
    "To get the synthetic lethal genes, "
   ]
  },
  {
   "cell_type": "code",
   "execution_count": 70,
   "metadata": {},
   "outputs": [
    {
     "name": "stdout",
     "output_type": "stream",
     "text": [
      "<class 'pandas.core.frame.DataFrame'>\n"
     ]
    }
   ],
   "source": [
    "corrMatrix = prop_df.corr()"
   ]
  },
  {
   "cell_type": "code",
   "execution_count": 72,
   "metadata": {},
   "outputs": [
    {
     "name": "stdout",
     "output_type": "stream",
     "text": [
      "(7544, 7544)\n"
     ]
    }
   ],
   "source": [
    "print(corrMatrix.shape)"
   ]
  },
  {
   "cell_type": "code",
   "execution_count": 73,
   "metadata": {},
   "outputs": [
    {
     "data": {
      "text/html": [
       "<div>\n",
       "<style scoped>\n",
       "    .dataframe tbody tr th:only-of-type {\n",
       "        vertical-align: middle;\n",
       "    }\n",
       "\n",
       "    .dataframe tbody tr th {\n",
       "        vertical-align: top;\n",
       "    }\n",
       "\n",
       "    .dataframe thead th {\n",
       "        text-align: right;\n",
       "    }\n",
       "</style>\n",
       "<table border=\"1\" class=\"dataframe\">\n",
       "  <thead>\n",
       "    <tr style=\"text-align: right;\">\n",
       "      <th></th>\n",
       "      <th>A3GALT2 (127550)</th>\n",
       "      <th>A4GALT (53947)</th>\n",
       "      <th>AAAS (8086)</th>\n",
       "      <th>AACS (65985)</th>\n",
       "      <th>AAED1 (195827)</th>\n",
       "      <th>AAK1 (22848)</th>\n",
       "      <th>AANAT (15)</th>\n",
       "      <th>AAR2 (25980)</th>\n",
       "      <th>AARD (441376)</th>\n",
       "      <th>AARSD1 (80755)</th>\n",
       "      <th>...</th>\n",
       "      <th>ZSCAN22 (342945)</th>\n",
       "      <th>ZSCAN25 (221785)</th>\n",
       "      <th>ZSCAN30 (100101467)</th>\n",
       "      <th>ZSWIM1 (90204)</th>\n",
       "      <th>ZSWIM5 (57643)</th>\n",
       "      <th>ZSWIM7 (125150)</th>\n",
       "      <th>ZSWIM8 (23053)</th>\n",
       "      <th>ZYG11B (79699)</th>\n",
       "      <th>ZYX (7791)</th>\n",
       "      <th>ZZZ3 (26009)</th>\n",
       "    </tr>\n",
       "  </thead>\n",
       "  <tbody>\n",
       "    <tr>\n",
       "      <th>A3GALT2 (127550)</th>\n",
       "      <td>1.000000</td>\n",
       "      <td>-0.049641</td>\n",
       "      <td>-0.053367</td>\n",
       "      <td>0.045212</td>\n",
       "      <td>-0.148688</td>\n",
       "      <td>-0.048556</td>\n",
       "      <td>0.067367</td>\n",
       "      <td>0.009396</td>\n",
       "      <td>-0.001669</td>\n",
       "      <td>-0.095312</td>\n",
       "      <td>...</td>\n",
       "      <td>-0.017980</td>\n",
       "      <td>0.024694</td>\n",
       "      <td>-0.008331</td>\n",
       "      <td>0.108811</td>\n",
       "      <td>0.057812</td>\n",
       "      <td>0.085040</td>\n",
       "      <td>-0.058419</td>\n",
       "      <td>0.118316</td>\n",
       "      <td>0.061853</td>\n",
       "      <td>0.058252</td>\n",
       "    </tr>\n",
       "    <tr>\n",
       "      <th>A4GALT (53947)</th>\n",
       "      <td>-0.049641</td>\n",
       "      <td>1.000000</td>\n",
       "      <td>0.019439</td>\n",
       "      <td>-0.078249</td>\n",
       "      <td>-0.134868</td>\n",
       "      <td>-0.074626</td>\n",
       "      <td>0.062322</td>\n",
       "      <td>-0.029015</td>\n",
       "      <td>-0.082416</td>\n",
       "      <td>-0.017047</td>\n",
       "      <td>...</td>\n",
       "      <td>0.071239</td>\n",
       "      <td>-0.004804</td>\n",
       "      <td>0.075408</td>\n",
       "      <td>-0.045852</td>\n",
       "      <td>0.081226</td>\n",
       "      <td>0.066848</td>\n",
       "      <td>-0.022810</td>\n",
       "      <td>0.071979</td>\n",
       "      <td>0.068863</td>\n",
       "      <td>-0.040602</td>\n",
       "    </tr>\n",
       "    <tr>\n",
       "      <th>AAAS (8086)</th>\n",
       "      <td>-0.053367</td>\n",
       "      <td>0.019439</td>\n",
       "      <td>1.000000</td>\n",
       "      <td>0.058008</td>\n",
       "      <td>0.005323</td>\n",
       "      <td>0.156493</td>\n",
       "      <td>-0.023839</td>\n",
       "      <td>-0.032554</td>\n",
       "      <td>-0.012459</td>\n",
       "      <td>0.094941</td>\n",
       "      <td>...</td>\n",
       "      <td>-0.057842</td>\n",
       "      <td>-0.012267</td>\n",
       "      <td>-0.028519</td>\n",
       "      <td>0.017358</td>\n",
       "      <td>0.010780</td>\n",
       "      <td>-0.035608</td>\n",
       "      <td>-0.013006</td>\n",
       "      <td>-0.033753</td>\n",
       "      <td>0.072679</td>\n",
       "      <td>0.076262</td>\n",
       "    </tr>\n",
       "    <tr>\n",
       "      <th>AACS (65985)</th>\n",
       "      <td>0.045212</td>\n",
       "      <td>-0.078249</td>\n",
       "      <td>0.058008</td>\n",
       "      <td>1.000000</td>\n",
       "      <td>-0.028204</td>\n",
       "      <td>0.063793</td>\n",
       "      <td>-0.072323</td>\n",
       "      <td>-0.074037</td>\n",
       "      <td>-0.052142</td>\n",
       "      <td>-0.052601</td>\n",
       "      <td>...</td>\n",
       "      <td>-0.090372</td>\n",
       "      <td>-0.046871</td>\n",
       "      <td>0.004330</td>\n",
       "      <td>-0.038043</td>\n",
       "      <td>0.039557</td>\n",
       "      <td>-0.046258</td>\n",
       "      <td>0.095547</td>\n",
       "      <td>-0.057009</td>\n",
       "      <td>0.073677</td>\n",
       "      <td>-0.029980</td>\n",
       "    </tr>\n",
       "    <tr>\n",
       "      <th>AAED1 (195827)</th>\n",
       "      <td>-0.148688</td>\n",
       "      <td>-0.134868</td>\n",
       "      <td>0.005323</td>\n",
       "      <td>-0.028204</td>\n",
       "      <td>1.000000</td>\n",
       "      <td>0.161277</td>\n",
       "      <td>-0.096461</td>\n",
       "      <td>-0.001932</td>\n",
       "      <td>0.048281</td>\n",
       "      <td>0.086627</td>\n",
       "      <td>...</td>\n",
       "      <td>-0.000263</td>\n",
       "      <td>-0.028959</td>\n",
       "      <td>-0.081259</td>\n",
       "      <td>-0.112407</td>\n",
       "      <td>-0.113786</td>\n",
       "      <td>0.094858</td>\n",
       "      <td>-0.046492</td>\n",
       "      <td>-0.017905</td>\n",
       "      <td>-0.098964</td>\n",
       "      <td>-0.007160</td>\n",
       "    </tr>\n",
       "  </tbody>\n",
       "</table>\n",
       "<p>5 rows × 7544 columns</p>\n",
       "</div>"
      ],
      "text/plain": [
       "                  A3GALT2 (127550)  A4GALT (53947)  AAAS (8086)  AACS (65985)  \\\n",
       "A3GALT2 (127550)          1.000000       -0.049641    -0.053367      0.045212   \n",
       "A4GALT (53947)           -0.049641        1.000000     0.019439     -0.078249   \n",
       "AAAS (8086)              -0.053367        0.019439     1.000000      0.058008   \n",
       "AACS (65985)              0.045212       -0.078249     0.058008      1.000000   \n",
       "AAED1 (195827)           -0.148688       -0.134868     0.005323     -0.028204   \n",
       "\n",
       "                  AAED1 (195827)  AAK1 (22848)  AANAT (15)  AAR2 (25980)  \\\n",
       "A3GALT2 (127550)       -0.148688     -0.048556    0.067367      0.009396   \n",
       "A4GALT (53947)         -0.134868     -0.074626    0.062322     -0.029015   \n",
       "AAAS (8086)             0.005323      0.156493   -0.023839     -0.032554   \n",
       "AACS (65985)           -0.028204      0.063793   -0.072323     -0.074037   \n",
       "AAED1 (195827)          1.000000      0.161277   -0.096461     -0.001932   \n",
       "\n",
       "                  AARD (441376)  AARSD1 (80755)  ...  ZSCAN22 (342945)  \\\n",
       "A3GALT2 (127550)      -0.001669       -0.095312  ...         -0.017980   \n",
       "A4GALT (53947)        -0.082416       -0.017047  ...          0.071239   \n",
       "AAAS (8086)           -0.012459        0.094941  ...         -0.057842   \n",
       "AACS (65985)          -0.052142       -0.052601  ...         -0.090372   \n",
       "AAED1 (195827)         0.048281        0.086627  ...         -0.000263   \n",
       "\n",
       "                  ZSCAN25 (221785)  ZSCAN30 (100101467)  ZSWIM1 (90204)  \\\n",
       "A3GALT2 (127550)          0.024694            -0.008331        0.108811   \n",
       "A4GALT (53947)           -0.004804             0.075408       -0.045852   \n",
       "AAAS (8086)              -0.012267            -0.028519        0.017358   \n",
       "AACS (65985)             -0.046871             0.004330       -0.038043   \n",
       "AAED1 (195827)           -0.028959            -0.081259       -0.112407   \n",
       "\n",
       "                  ZSWIM5 (57643)  ZSWIM7 (125150)  ZSWIM8 (23053)  \\\n",
       "A3GALT2 (127550)        0.057812         0.085040       -0.058419   \n",
       "A4GALT (53947)          0.081226         0.066848       -0.022810   \n",
       "AAAS (8086)             0.010780        -0.035608       -0.013006   \n",
       "AACS (65985)            0.039557        -0.046258        0.095547   \n",
       "AAED1 (195827)         -0.113786         0.094858       -0.046492   \n",
       "\n",
       "                  ZYG11B (79699)  ZYX (7791)  ZZZ3 (26009)  \n",
       "A3GALT2 (127550)        0.118316    0.061853      0.058252  \n",
       "A4GALT (53947)          0.071979    0.068863     -0.040602  \n",
       "AAAS (8086)            -0.033753    0.072679      0.076262  \n",
       "AACS (65985)           -0.057009    0.073677     -0.029980  \n",
       "AAED1 (195827)         -0.017905   -0.098964     -0.007160  \n",
       "\n",
       "[5 rows x 7544 columns]"
      ]
     },
     "execution_count": 73,
     "metadata": {},
     "output_type": "execute_result"
    }
   ],
   "source": [
    "corrMatrix.head()"
   ]
  },
  {
   "cell_type": "code",
   "execution_count": 96,
   "metadata": {},
   "outputs": [
    {
     "data": {
      "image/png": "[encoded data removed]",
      "text/plain": [
       "<Figure size 432x288 with 1 Axes>"
      ]
     },
     "metadata": {
      "needs_background": "light"
     },
     "output_type": "display_data"
    },
    {
     "data": {
      "image/png": "[encoded data removed]",
      "text/plain": [
       "<Figure size 432x288 with 1 Axes>"
      ]
     },
     "metadata": {
      "needs_background": "light"
     },
     "output_type": "display_data"
    },
    {
     "data": {
      "image/png": "[encoded data removed]",
      "text/plain": [
       "<Figure size 432x288 with 1 Axes>"
      ]
     },
     "metadata": {
      "needs_background": "light"
     },
     "output_type": "display_data"
    },
    {
     "data": {
      "image/png": "[encoded data removed]",
      "text/plain": [
       "<Figure size 432x288 with 1 Axes>"
      ]
     },
     "metadata": {
      "needs_background": "light"
     },
     "output_type": "display_data"
    },
    {
     "data": {
      "image/png": "[encoded data removed]",
      "text/plain": [
       "<Figure size 432x288 with 1 Axes>"
      ]
     },
     "metadata": {
      "needs_background": "light"
     },
     "output_type": "display_data"
    }
   ],
   "source": [
    "for i in range(1, corrMatrix.shape[1]):\n",
    "    if i%1500 == 0:\n",
    "        #print(prop_df.iloc[:,i].nsmallest(5))\n",
    "        #print(\"\\n\")\n",
    "        plt.hist(prop_df.iloc[:,i], bins = 1000)\n",
    "        plt.show()"
   ]
  },
  {
   "cell_type": "markdown",
   "metadata": {},
   "source": [
    "Here we see what the correlation between the genes look like."
   ]
  },
  {
   "cell_type": "code",
   "execution_count": null,
   "metadata": {},
   "outputs": [],
   "source": []
  },
  {
   "cell_type": "code",
   "execution_count": null,
   "metadata": {},
   "outputs": [],
   "source": []
  },
  {
   "cell_type": "code",
   "execution_count": 97,
   "metadata": {},
   "outputs": [
    {
     "data": {
      "text/plain": [
       "0.0017006802721088435"
      ]
     },
     "execution_count": 97,
     "metadata": {},
     "output_type": "execute_result"
    }
   ],
   "source": [
    "1 / 588"
   ]
  },
  {
   "cell_type": "code",
   "execution_count": null,
   "metadata": {},
   "outputs": [],
   "source": []
  }
 ],
 "metadata": {
  "kernelspec": {
   "display_name": "Python 3",
   "language": "python",
   "name": "python3"
  },
  "language_info": {
   "codemirror_mode": {
    "name": "ipython",
    "version": 3
   },
   "file_extension": ".py",
   "mimetype": "text/x-python",
   "name": "python",
   "nbconvert_exporter": "python",
   "pygments_lexer": "ipython3",
   "version": "3.7.7"
  }
 },
 "nbformat": 4,
 "nbformat_minor": 4
}
